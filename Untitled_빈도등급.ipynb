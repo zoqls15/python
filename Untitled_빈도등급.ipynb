{
 "cells": [
  {
   "cell_type": "code",
   "execution_count": 2,
   "id": "handmade-personal",
   "metadata": {},
   "outputs": [],
   "source": [
    "import numpy as np\n",
    "import pandas as pd\n",
    "from scipy import stats\n",
    "from matplotlib import pyplot as plt\n",
    "import seaborn as sns\n",
    "import statsmodels.formula.api as smf\n",
    "import statsmodels.api as sm\n",
    "# from mlxtend.preprocessing import TransactionEncoder\n",
    "# from mlxtend.frequent_patterns import apriori, association_rules\n",
    "import warnings\n",
    "warnings.filterwarnings('ignore')\n",
    "# import missingno\n",
    "from sklearn.preprocessing import LabelEncoder\n",
    "import re\n",
    "from sklearn.metrics import accuracy_score\n",
    "\n",
    "from matplotlib import font_manager, rc\n",
    "# font_path = \"dataset/malgun.ttf\"\n",
    "# font_name = font_manager.FontProperties(fname=font_path).get_name()\n",
    "# rc('font', family=font_name)"
   ]
  },
  {
   "cell_type": "code",
   "execution_count": 40,
   "id": "former-industry",
   "metadata": {},
   "outputs": [],
   "source": [
    "# 가을14, 15년도 데이터 전체에 고객마다 라벨값을 추가한 데이터 read\n",
    "df = pd.read_pickle('dataset/full_data_with_label_FINAL.pkl')"
   ]
  },
  {
   "cell_type": "code",
   "execution_count": 41,
   "id": "motivated-specialist",
   "metadata": {},
   "outputs": [],
   "source": [
    "# 14,15년으로 데이터 분리\n",
    "_14 = df[df.Year == 2014]\n",
    "_15 = df[df.Year == 2015]"
   ]
  },
  {
   "cell_type": "code",
   "execution_count": 47,
   "id": "asian-compiler",
   "metadata": {
    "scrolled": true
   },
   "outputs": [
    {
     "data": {
      "text/plain": [
       "CUSTNO\n",
       "00001    21\n",
       "00002    22\n",
       "00004    10\n",
       "00006    11\n",
       "00007    18\n",
       "         ..\n",
       "19369     7\n",
       "19371     1\n",
       "19372    35\n",
       "19373     4\n",
       "19375     1\n",
       "Name: PURCHAMOUNT, Length: 16295, dtype: int64"
      ]
     },
     "execution_count": 47,
     "metadata": {},
     "output_type": "execute_result"
    }
   ],
   "source": [
    "# 14년도 고객별 구매빈도\n",
    "\n",
    "fr14 = _14.groupby('CUSTNO')['PURCHAMOUNT'].count()\n",
    "fr14\n"
   ]
  },
  {
   "cell_type": "code",
   "execution_count": 45,
   "id": "strange-surveillance",
   "metadata": {},
   "outputs": [
    {
     "name": "stdout",
     "output_type": "stream",
     "text": [
      "<14년도 등급기준 - 빈도>\n",
      "3.0\n",
      "6.0\n",
      "10.0\n",
      "17.0\n"
     ]
    }
   ],
   "source": [
    "print('<14년도 등급기준 - 빈도>')\n",
    "print(fr14.quantile(.20))\n",
    "print(fr14.quantile(.40))\n",
    "print(fr14.quantile(.60))\n",
    "print(fr14.quantile(.80))"
   ]
  },
  {
   "cell_type": "code",
   "execution_count": 48,
   "id": "executive-barbados",
   "metadata": {},
   "outputs": [
    {
     "data": {
      "text/html": [
       "<div>\n",
       "<style scoped>\n",
       "    .dataframe tbody tr th:only-of-type {\n",
       "        vertical-align: middle;\n",
       "    }\n",
       "\n",
       "    .dataframe tbody tr th {\n",
       "        vertical-align: top;\n",
       "    }\n",
       "\n",
       "    .dataframe thead th {\n",
       "        text-align: right;\n",
       "    }\n",
       "</style>\n",
       "<table border=\"1\" class=\"dataframe\">\n",
       "  <thead>\n",
       "    <tr style=\"text-align: right;\">\n",
       "      <th></th>\n",
       "      <th>PURCHAMOUNT</th>\n",
       "      <th>F_rank_14</th>\n",
       "    </tr>\n",
       "    <tr>\n",
       "      <th>CUSTNO</th>\n",
       "      <th></th>\n",
       "      <th></th>\n",
       "    </tr>\n",
       "  </thead>\n",
       "  <tbody>\n",
       "    <tr>\n",
       "      <th>00001</th>\n",
       "      <td>21</td>\n",
       "      <td>5</td>\n",
       "    </tr>\n",
       "    <tr>\n",
       "      <th>00002</th>\n",
       "      <td>22</td>\n",
       "      <td>5</td>\n",
       "    </tr>\n",
       "    <tr>\n",
       "      <th>00004</th>\n",
       "      <td>10</td>\n",
       "      <td>3</td>\n",
       "    </tr>\n",
       "    <tr>\n",
       "      <th>00006</th>\n",
       "      <td>11</td>\n",
       "      <td>4</td>\n",
       "    </tr>\n",
       "    <tr>\n",
       "      <th>00007</th>\n",
       "      <td>18</td>\n",
       "      <td>5</td>\n",
       "    </tr>\n",
       "    <tr>\n",
       "      <th>...</th>\n",
       "      <td>...</td>\n",
       "      <td>...</td>\n",
       "    </tr>\n",
       "    <tr>\n",
       "      <th>19369</th>\n",
       "      <td>7</td>\n",
       "      <td>3</td>\n",
       "    </tr>\n",
       "    <tr>\n",
       "      <th>19371</th>\n",
       "      <td>1</td>\n",
       "      <td>1</td>\n",
       "    </tr>\n",
       "    <tr>\n",
       "      <th>19372</th>\n",
       "      <td>35</td>\n",
       "      <td>5</td>\n",
       "    </tr>\n",
       "    <tr>\n",
       "      <th>19373</th>\n",
       "      <td>4</td>\n",
       "      <td>2</td>\n",
       "    </tr>\n",
       "    <tr>\n",
       "      <th>19375</th>\n",
       "      <td>1</td>\n",
       "      <td>1</td>\n",
       "    </tr>\n",
       "  </tbody>\n",
       "</table>\n",
       "<p>16295 rows × 2 columns</p>\n",
       "</div>"
      ],
      "text/plain": [
       "        PURCHAMOUNT  F_rank_14\n",
       "CUSTNO                        \n",
       "00001            21          5\n",
       "00002            22          5\n",
       "00004            10          3\n",
       "00006            11          4\n",
       "00007            18          5\n",
       "...             ...        ...\n",
       "19369             7          3\n",
       "19371             1          1\n",
       "19372            35          5\n",
       "19373             4          2\n",
       "19375             1          1\n",
       "\n",
       "[16295 rows x 2 columns]"
      ]
     },
     "execution_count": 48,
     "metadata": {},
     "output_type": "execute_result"
    }
   ],
   "source": [
    "# 14년데이터 데이터프레임화\n",
    "a1 = pd.DataFrame(fr14)\n",
    "\n",
    "# 14년도 등급 : 15년도 구매빈도 상위 0~20% = 5 , 20~40% = 4, 40~60% = 3, 60~80% = 2, 80~100% = 1\n",
    "def Frequency_rank_14 (x):\n",
    "    if x <= 3.0 : return 1\n",
    "    elif 3.0 < x <= 6.0 : return 2\n",
    "    elif 6.0 < x <= 10.0: return 3\n",
    "    elif 10.0 < x <= 17.0 : return 4\n",
    "    elif 17.0 < x : return 5\n",
    "\n",
    "a1['F_rank_14'] = a1.PURCHAMOUNT.apply(Frequency_rank_14)\n",
    "\n",
    "a1"
   ]
  },
  {
   "cell_type": "code",
   "execution_count": 49,
   "id": "exotic-function",
   "metadata": {
    "scrolled": true
   },
   "outputs": [
    {
     "data": {
      "text/plain": [
       "CUSTNO\n",
       "00001    24\n",
       "00002    17\n",
       "00004     8\n",
       "00006    28\n",
       "00007    12\n",
       "         ..\n",
       "19365    10\n",
       "19369    10\n",
       "19372    11\n",
       "19373     2\n",
       "19375     1\n",
       "Name: PURCHAMOUNT, Length: 15215, dtype: int64"
      ]
     },
     "execution_count": 49,
     "metadata": {},
     "output_type": "execute_result"
    }
   ],
   "source": [
    "# 15년도 고객별 구매빈도\n",
    "\n",
    "fr15 = _15.groupby('CUSTNO')['PURCHAMOUNT'].count()\n",
    "fr15"
   ]
  },
  {
   "cell_type": "code",
   "execution_count": 50,
   "id": "center-theater",
   "metadata": {
    "scrolled": true
   },
   "outputs": [
    {
     "name": "stdout",
     "output_type": "stream",
     "text": [
      "<15년도 등급기준- 빈도>\n",
      "3.0\n",
      "6.0\n",
      "10.0\n",
      "17.0\n"
     ]
    }
   ],
   "source": [
    "print('<15년도 등급기준- 빈도>')\n",
    "print(fr15.quantile(.20))\n",
    "print(fr15.quantile(.40))\n",
    "print(fr15.quantile(.60))\n",
    "print(fr15.quantile(.80))"
   ]
  },
  {
   "cell_type": "code",
   "execution_count": 51,
   "id": "brief-manual",
   "metadata": {
    "scrolled": true
   },
   "outputs": [
    {
     "data": {
      "text/html": [
       "<div>\n",
       "<style scoped>\n",
       "    .dataframe tbody tr th:only-of-type {\n",
       "        vertical-align: middle;\n",
       "    }\n",
       "\n",
       "    .dataframe tbody tr th {\n",
       "        vertical-align: top;\n",
       "    }\n",
       "\n",
       "    .dataframe thead th {\n",
       "        text-align: right;\n",
       "    }\n",
       "</style>\n",
       "<table border=\"1\" class=\"dataframe\">\n",
       "  <thead>\n",
       "    <tr style=\"text-align: right;\">\n",
       "      <th></th>\n",
       "      <th>PURCHAMOUNT</th>\n",
       "      <th>F_rank_15</th>\n",
       "    </tr>\n",
       "    <tr>\n",
       "      <th>CUSTNO</th>\n",
       "      <th></th>\n",
       "      <th></th>\n",
       "    </tr>\n",
       "  </thead>\n",
       "  <tbody>\n",
       "    <tr>\n",
       "      <th>00001</th>\n",
       "      <td>24</td>\n",
       "      <td>5</td>\n",
       "    </tr>\n",
       "    <tr>\n",
       "      <th>00002</th>\n",
       "      <td>17</td>\n",
       "      <td>4</td>\n",
       "    </tr>\n",
       "    <tr>\n",
       "      <th>00004</th>\n",
       "      <td>8</td>\n",
       "      <td>3</td>\n",
       "    </tr>\n",
       "    <tr>\n",
       "      <th>00006</th>\n",
       "      <td>28</td>\n",
       "      <td>5</td>\n",
       "    </tr>\n",
       "    <tr>\n",
       "      <th>00007</th>\n",
       "      <td>12</td>\n",
       "      <td>4</td>\n",
       "    </tr>\n",
       "    <tr>\n",
       "      <th>...</th>\n",
       "      <td>...</td>\n",
       "      <td>...</td>\n",
       "    </tr>\n",
       "    <tr>\n",
       "      <th>19365</th>\n",
       "      <td>10</td>\n",
       "      <td>3</td>\n",
       "    </tr>\n",
       "    <tr>\n",
       "      <th>19369</th>\n",
       "      <td>10</td>\n",
       "      <td>3</td>\n",
       "    </tr>\n",
       "    <tr>\n",
       "      <th>19372</th>\n",
       "      <td>11</td>\n",
       "      <td>4</td>\n",
       "    </tr>\n",
       "    <tr>\n",
       "      <th>19373</th>\n",
       "      <td>2</td>\n",
       "      <td>1</td>\n",
       "    </tr>\n",
       "    <tr>\n",
       "      <th>19375</th>\n",
       "      <td>1</td>\n",
       "      <td>1</td>\n",
       "    </tr>\n",
       "  </tbody>\n",
       "</table>\n",
       "<p>15215 rows × 2 columns</p>\n",
       "</div>"
      ],
      "text/plain": [
       "        PURCHAMOUNT  F_rank_15\n",
       "CUSTNO                        \n",
       "00001            24          5\n",
       "00002            17          4\n",
       "00004             8          3\n",
       "00006            28          5\n",
       "00007            12          4\n",
       "...             ...        ...\n",
       "19365            10          3\n",
       "19369            10          3\n",
       "19372            11          4\n",
       "19373             2          1\n",
       "19375             1          1\n",
       "\n",
       "[15215 rows x 2 columns]"
      ]
     },
     "execution_count": 51,
     "metadata": {},
     "output_type": "execute_result"
    }
   ],
   "source": [
    "# 15년데이터 데이터프레임화\n",
    "a2 = pd.DataFrame(fr15)\n",
    "\n",
    "# 15년도 등급 : 15년도 구매빈도 상위 0~20% = 5 , 20~40% = 4, 40~60% = 3, 60~80% = 2, 80~100% = 1\n",
    "def Frequency_rank_15 (x):\n",
    "    if x <= 3.0 : return 1\n",
    "    elif 3.0 < x <= 6.0 : return 2\n",
    "    elif 6.0 < x <= 10.0 : return 3\n",
    "    elif 10.0 < x <= 17.0 : return 4\n",
    "    elif 17.0 < x : return 5\n",
    "\n",
    "a2['F_rank_15'] = a2.PURCHAMOUNT.apply(Frequency_rank_15)\n",
    "\n",
    "a2"
   ]
  },
  {
   "cell_type": "code",
   "execution_count": 54,
   "id": "prospective-present",
   "metadata": {},
   "outputs": [
    {
     "data": {
      "text/html": [
       "<div>\n",
       "<style scoped>\n",
       "    .dataframe tbody tr th:only-of-type {\n",
       "        vertical-align: middle;\n",
       "    }\n",
       "\n",
       "    .dataframe tbody tr th {\n",
       "        vertical-align: top;\n",
       "    }\n",
       "\n",
       "    .dataframe thead th {\n",
       "        text-align: right;\n",
       "    }\n",
       "</style>\n",
       "<table border=\"1\" class=\"dataframe\">\n",
       "  <thead>\n",
       "    <tr style=\"text-align: right;\">\n",
       "      <th></th>\n",
       "      <th>F_rank_14</th>\n",
       "      <th>F_rank_15</th>\n",
       "    </tr>\n",
       "    <tr>\n",
       "      <th>CUSTNO</th>\n",
       "      <th></th>\n",
       "      <th></th>\n",
       "    </tr>\n",
       "  </thead>\n",
       "  <tbody>\n",
       "    <tr>\n",
       "      <th>00001</th>\n",
       "      <td>5.0</td>\n",
       "      <td>5.0</td>\n",
       "    </tr>\n",
       "    <tr>\n",
       "      <th>00002</th>\n",
       "      <td>5.0</td>\n",
       "      <td>4.0</td>\n",
       "    </tr>\n",
       "    <tr>\n",
       "      <th>00004</th>\n",
       "      <td>3.0</td>\n",
       "      <td>3.0</td>\n",
       "    </tr>\n",
       "    <tr>\n",
       "      <th>00006</th>\n",
       "      <td>4.0</td>\n",
       "      <td>5.0</td>\n",
       "    </tr>\n",
       "    <tr>\n",
       "      <th>00007</th>\n",
       "      <td>5.0</td>\n",
       "      <td>4.0</td>\n",
       "    </tr>\n",
       "    <tr>\n",
       "      <th>...</th>\n",
       "      <td>...</td>\n",
       "      <td>...</td>\n",
       "    </tr>\n",
       "    <tr>\n",
       "      <th>19017</th>\n",
       "      <td>NaN</td>\n",
       "      <td>2.0</td>\n",
       "    </tr>\n",
       "    <tr>\n",
       "      <th>19144</th>\n",
       "      <td>NaN</td>\n",
       "      <td>1.0</td>\n",
       "    </tr>\n",
       "    <tr>\n",
       "      <th>19149</th>\n",
       "      <td>NaN</td>\n",
       "      <td>2.0</td>\n",
       "    </tr>\n",
       "    <tr>\n",
       "      <th>19254</th>\n",
       "      <td>NaN</td>\n",
       "      <td>1.0</td>\n",
       "    </tr>\n",
       "    <tr>\n",
       "      <th>19355</th>\n",
       "      <td>NaN</td>\n",
       "      <td>1.0</td>\n",
       "    </tr>\n",
       "  </tbody>\n",
       "</table>\n",
       "<p>16599 rows × 2 columns</p>\n",
       "</div>"
      ],
      "text/plain": [
       "        F_rank_14  F_rank_15\n",
       "CUSTNO                      \n",
       "00001         5.0        5.0\n",
       "00002         5.0        4.0\n",
       "00004         3.0        3.0\n",
       "00006         4.0        5.0\n",
       "00007         5.0        4.0\n",
       "...           ...        ...\n",
       "19017         NaN        2.0\n",
       "19144         NaN        1.0\n",
       "19149         NaN        2.0\n",
       "19254         NaN        1.0\n",
       "19355         NaN        1.0\n",
       "\n",
       "[16599 rows x 2 columns]"
      ]
     },
     "execution_count": 54,
     "metadata": {},
     "output_type": "execute_result"
    }
   ],
   "source": [
    "total_F_rank = pd.concat([a1,a2],axis=1 , join='outer')\n",
    "total_F_rank\n",
    "\n",
    "F_rank = total_F_rank[['F_rank_14','F_rank_15']]\n",
    "F_rank"
   ]
  },
  {
   "cell_type": "markdown",
   "id": "acknowledged-portsmouth",
   "metadata": {},
   "source": [
    "## Nan값 처리"
   ]
  },
  {
   "cell_type": "code",
   "execution_count": 32,
   "id": "provincial-portuguese",
   "metadata": {},
   "outputs": [
    {
     "data": {
      "text/plain": [
       "0"
      ]
     },
     "execution_count": 32,
     "metadata": {},
     "output_type": "execute_result"
    }
   ],
   "source": [
    "# 14년도 랭크 Nan값(신규 고객으로인한) 같은 값으로 처리  - 고객의 등급변동이 없다고 처리\n",
    "\n",
    "F_rank.F_rank_14[(F_rank.F_rank_14 != F_rank.F_rank_14)&(F_rank.F_rank_15 == 5)] = 5 \n",
    "F_rank.F_rank_14[(F_rank.F_rank_14 != F_rank.F_rank_14)&(F_rank.F_rank_15 == 4)] = 4\n",
    "F_rank.F_rank_14[(F_rank.F_rank_14 != F_rank.F_rank_14)&(F_rank.F_rank_15 == 3)] = 3\n",
    "F_rank.F_rank_14[(F_rank.F_rank_14 != F_rank.F_rank_14)&(F_rank.F_rank_15 == 2)] = 2\n",
    "F_rank.F_rank_14[(F_rank.F_rank_14 != F_rank.F_rank_14)&(F_rank.F_rank_15 == 1)] = 1\n",
    "\n",
    "# 15년도 랭크 Nan값 0으로 처리 - 14년의 고객등급은 있고 15년에는 없는 경우 14년 고객등급이 그만큼 줄어들었다고 볼수있다.\n",
    "\n",
    "F_rank.F_rank_15[F_rank.F_rank_15 != F_rank.F_rank_15] = 0\n",
    "F_rank.F_rank_15.isnull().sum()"
   ]
  },
  {
   "cell_type": "code",
   "execution_count": 33,
   "id": "celtic-lesson",
   "metadata": {},
   "outputs": [
    {
     "data": {
      "text/html": [
       "<div>\n",
       "<style scoped>\n",
       "    .dataframe tbody tr th:only-of-type {\n",
       "        vertical-align: middle;\n",
       "    }\n",
       "\n",
       "    .dataframe tbody tr th {\n",
       "        vertical-align: top;\n",
       "    }\n",
       "\n",
       "    .dataframe thead th {\n",
       "        text-align: right;\n",
       "    }\n",
       "</style>\n",
       "<table border=\"1\" class=\"dataframe\">\n",
       "  <thead>\n",
       "    <tr style=\"text-align: right;\">\n",
       "      <th></th>\n",
       "      <th>F_rank_14</th>\n",
       "      <th>F_rank_15</th>\n",
       "      <th>F_rank_moving</th>\n",
       "      <th>|F_rank_moving|</th>\n",
       "    </tr>\n",
       "    <tr>\n",
       "      <th>CUSTNO</th>\n",
       "      <th></th>\n",
       "      <th></th>\n",
       "      <th></th>\n",
       "      <th></th>\n",
       "    </tr>\n",
       "  </thead>\n",
       "  <tbody>\n",
       "    <tr>\n",
       "      <th>00001</th>\n",
       "      <td>3.0</td>\n",
       "      <td>1.0</td>\n",
       "      <td>-2.0</td>\n",
       "      <td>2.0</td>\n",
       "    </tr>\n",
       "    <tr>\n",
       "      <th>00002</th>\n",
       "      <td>2.0</td>\n",
       "      <td>2.0</td>\n",
       "      <td>0.0</td>\n",
       "      <td>0.0</td>\n",
       "    </tr>\n",
       "    <tr>\n",
       "      <th>00003</th>\n",
       "      <td>3.0</td>\n",
       "      <td>2.0</td>\n",
       "      <td>-1.0</td>\n",
       "      <td>1.0</td>\n",
       "    </tr>\n",
       "    <tr>\n",
       "      <th>00004</th>\n",
       "      <td>1.0</td>\n",
       "      <td>2.0</td>\n",
       "      <td>1.0</td>\n",
       "      <td>1.0</td>\n",
       "    </tr>\n",
       "    <tr>\n",
       "      <th>00005</th>\n",
       "      <td>1.0</td>\n",
       "      <td>1.0</td>\n",
       "      <td>0.0</td>\n",
       "      <td>0.0</td>\n",
       "    </tr>\n",
       "    <tr>\n",
       "      <th>...</th>\n",
       "      <td>...</td>\n",
       "      <td>...</td>\n",
       "      <td>...</td>\n",
       "      <td>...</td>\n",
       "    </tr>\n",
       "    <tr>\n",
       "      <th>19378</th>\n",
       "      <td>3.0</td>\n",
       "      <td>3.0</td>\n",
       "      <td>0.0</td>\n",
       "      <td>0.0</td>\n",
       "    </tr>\n",
       "    <tr>\n",
       "      <th>19380</th>\n",
       "      <td>4.0</td>\n",
       "      <td>4.0</td>\n",
       "      <td>0.0</td>\n",
       "      <td>0.0</td>\n",
       "    </tr>\n",
       "    <tr>\n",
       "      <th>19381</th>\n",
       "      <td>4.0</td>\n",
       "      <td>4.0</td>\n",
       "      <td>0.0</td>\n",
       "      <td>0.0</td>\n",
       "    </tr>\n",
       "    <tr>\n",
       "      <th>19382</th>\n",
       "      <td>4.0</td>\n",
       "      <td>4.0</td>\n",
       "      <td>0.0</td>\n",
       "      <td>0.0</td>\n",
       "    </tr>\n",
       "    <tr>\n",
       "      <th>19383</th>\n",
       "      <td>2.0</td>\n",
       "      <td>2.0</td>\n",
       "      <td>0.0</td>\n",
       "      <td>0.0</td>\n",
       "    </tr>\n",
       "  </tbody>\n",
       "</table>\n",
       "<p>19349 rows × 4 columns</p>\n",
       "</div>"
      ],
      "text/plain": [
       "        F_rank_14  F_rank_15  F_rank_moving  |F_rank_moving|\n",
       "CUSTNO                                                      \n",
       "00001         3.0        1.0           -2.0              2.0\n",
       "00002         2.0        2.0            0.0              0.0\n",
       "00003         3.0        2.0           -1.0              1.0\n",
       "00004         1.0        2.0            1.0              1.0\n",
       "00005         1.0        1.0            0.0              0.0\n",
       "...           ...        ...            ...              ...\n",
       "19378         3.0        3.0            0.0              0.0\n",
       "19380         4.0        4.0            0.0              0.0\n",
       "19381         4.0        4.0            0.0              0.0\n",
       "19382         4.0        4.0            0.0              0.0\n",
       "19383         2.0        2.0            0.0              0.0\n",
       "\n",
       "[19349 rows x 4 columns]"
      ]
     },
     "execution_count": 33,
     "metadata": {},
     "output_type": "execute_result"
    }
   ],
   "source": [
    "# 등급의 증감\n",
    "F_rank['F_rank_moving'] = F_rank.F_rank_15 - F_rank.F_rank_14\n",
    "\n",
    "# 등급의 변동 - 절대값\n",
    "F_rank['|F_rank_moving|'] = abs(F_rank.F_rank_14 - F_rank.F_rank_15)\n",
    "\n",
    "F_rank"
   ]
  },
  {
   "cell_type": "code",
   "execution_count": 37,
   "id": "local-bloom",
   "metadata": {
    "scrolled": true
   },
   "outputs": [
    {
     "name": "stdout",
     "output_type": "stream",
     "text": [
      "0.0    8771\n",
      "1.0    7641\n",
      "2.0    2147\n",
      "3.0     571\n",
      "4.0     218\n",
      "5.0       1\n",
      "Name: |F_rank_moving|, dtype: int64\n"
     ]
    },
    {
     "data": {
      "text/plain": [
       "<AxesSubplot:xlabel='|F_rank_moving|', ylabel='count'>"
      ]
     },
     "execution_count": 37,
     "metadata": {},
     "output_type": "execute_result"
    },
    {
     "data": {
      "image/png": "[encoded data removed]",
      "text/plain": [
       "<Figure size 432x288 with 1 Axes>"
      ]
     },
     "metadata": {
      "needs_background": "light"
     },
     "output_type": "display_data"
    }
   ],
   "source": [
    "# | F_rank_moving | 분포 - 절대값\n",
    "print(F_rank['|F_rank_moving|'].value_counts())\n",
    "sns.countplot('|F_rank_moving|',data = F_rank)\n"
   ]
  },
  {
   "cell_type": "code",
   "execution_count": 38,
   "id": "incorrect-business",
   "metadata": {},
   "outputs": [
    {
     "name": "stdout",
     "output_type": "stream",
     "text": [
      " 0.0    8771\n",
      " 1.0    3939\n",
      "-1.0    3702\n",
      " 2.0    1104\n",
      "-2.0    1043\n",
      "-3.0     307\n",
      " 3.0     264\n",
      "-4.0     130\n",
      " 4.0      88\n",
      "-5.0       1\n",
      "Name: F_rank_moving, dtype: int64\n"
     ]
    },
    {
     "data": {
      "text/plain": [
       "<AxesSubplot:xlabel='F_rank_moving', ylabel='count'>"
      ]
     },
     "execution_count": 38,
     "metadata": {},
     "output_type": "execute_result"
    },
    {
     "data": {
      "image/png": "[encoded data removed]",
      "text/plain": [
       "<Figure size 432x288 with 1 Axes>"
      ]
     },
     "metadata": {
      "needs_background": "light"
     },
     "output_type": "display_data"
    }
   ],
   "source": [
    "# | F_rank_moving | 분포 - 증감\n",
    "print(F_rank.F_rank_moving.value_counts())\n",
    "sns.countplot('F_rank_moving',data = F_rank)"
   ]
  },
  {
   "cell_type": "code",
   "execution_count": null,
   "id": "taken-error",
   "metadata": {},
   "outputs": [],
   "source": []
  }
 ],
 "metadata": {
  "kernelspec": {
   "display_name": "Python 3",
   "language": "python",
   "name": "python3"
  },
  "language_info": {
   "codemirror_mode": {
    "name": "ipython",
    "version": 3
   },
   "file_extension": ".py",
   "mimetype": "text/x-python",
   "name": "python",
   "nbconvert_exporter": "python",
   "pygments_lexer": "ipython3",
   "version": "3.7.9"
  }
 },
 "nbformat": 4,
 "nbformat_minor": 5
}
