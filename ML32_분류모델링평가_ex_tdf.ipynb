{
 "cells": [
  {
   "cell_type": "code",
   "execution_count": 1,
   "id": "front-lindsay",
   "metadata": {},
   "outputs": [],
   "source": [
    "import numpy as np\n",
    "import pandas as pd\n",
    "import matplotlib.pyplot as plt\n",
    "import seaborn as sns\n",
    "import warnings\n",
    "warnings.filterwarnings('ignore')\n",
    "from sklearn.tree import DecisionTreeClassifier\n",
    "from sklearn.model_selection import train_test_split\n",
    "from sklearn.metrics import accuracy_score, precision_score , recall_score, roc_auc_score\n",
    "from sklearn.metrics import f1_score, confusion_matrix, precision_recall_curve,roc_curve\n"
   ]
  },
  {
   "cell_type": "code",
   "execution_count": 41,
   "id": "cleared-dryer",
   "metadata": {},
   "outputs": [],
   "source": [
    "df = pd.read_pickle('titanic_.pkl')"
   ]
  },
  {
   "cell_type": "code",
   "execution_count": 82,
   "id": "assisted-french",
   "metadata": {},
   "outputs": [
    {
     "name": "stdout",
     "output_type": "stream",
     "text": [
      "정확도: 0.8547\n",
      "\n"
     ]
    }
   ],
   "source": [
    "from sklearn.tree import DecisionTreeClassifier\n",
    "from sklearn.model_selection import train_test_split\n",
    "\n",
    "y = df['Survived']\n",
    "X = df.drop('Survived',axis =1)\n",
    "\n",
    "X_train, X_test, y_train, y_test = train_test_split(X, y,\n",
    "                                                   test_size=0.2, random_state=10)\n",
    "dt_clf = DecisionTreeClassifier()\n",
    "dt_clf.fit(X_train,y_train)\n",
    "pred = dt_clf.predict(X_test)\n",
    "print('정확도: {0:.4f}'.format(accuracy_score(y_test,pred)))\n",
    "print()\n"
   ]
  },
  {
   "cell_type": "code",
   "execution_count": 70,
   "id": "baking-currency",
   "metadata": {},
   "outputs": [
    {
     "name": "stdout",
     "output_type": "stream",
     "text": [
      "정확도: 0.8659\n"
     ]
    }
   ],
   "source": [
    "from sklearn.linear_model import LogisticRegression\n",
    "\n",
    "\n",
    "y = df['Survived']\n",
    "X = df.drop('Survived',axis =1)\n",
    "\n",
    "X_train, X_test, y_train, y_test = train_test_split(X, y,\n",
    "                                                   test_size=0.2, random_state=11)\n",
    "lr_clf = LogisticRegression()\n",
    "lr_clf.fit(X_train,y_train)\n",
    "pred = lr_clf.predict(X_test)\n",
    "print('정확도: {0:.4f}'.format(accuracy_score(y_test,pred)))\n"
   ]
  },
  {
   "cell_type": "code",
   "execution_count": 95,
   "id": "contained-password",
   "metadata": {
    "scrolled": true
   },
   "outputs": [
    {
     "name": "stdout",
     "output_type": "stream",
     "text": [
      "정확도: 0.8380\n"
     ]
    }
   ],
   "source": [
    "from sklearn.ensemble import RandomForestClassifier\n",
    "\n",
    "y = df['Survived']\n",
    "X = df.drop('Survived',axis =1)\n",
    "\n",
    "X_train, X_test, y_train, y_test = train_test_split(X, y,\n",
    "                                                   test_size=0.2, random_state=11)\n",
    "rf_model = RandomForestClassifier()\n",
    "rf_model.fit(X_train,y_train)\n",
    "pred = rf_model.predict(X_test)\n",
    "print('정확도: {0:.4f}'.format(accuracy_score(y_test,pred)))\n",
    "\n"
   ]
  },
  {
   "cell_type": "markdown",
   "id": "liberal-traffic",
   "metadata": {},
   "source": [
    "## 모델별 accuracy,confusion matrix,precision, recall, roc auc score 평가"
   ]
  },
  {
   "cell_type": "code",
   "execution_count": 94,
   "id": "appointed-african",
   "metadata": {},
   "outputs": [
    {
     "name": "stdout",
     "output_type": "stream",
     "text": [
      "정확도: 0.8547\n",
      "\n",
      "오차행렬\n",
      "[[110   7]\n",
      " [ 19  43]]\n",
      "\n",
      "정확도:0.8547, 정밀도:0.8600, 재현율:0.6935,     f1 score:0.7679, ROC AUC:0.8169\n"
     ]
    }
   ],
   "source": [
    "# dt\n",
    "\n",
    "from sklearn.preprocessing import Binarizer\n",
    "from sklearn.metrics import roc_auc_score\n",
    "\n",
    "y = df['Survived']\n",
    "X = df.drop('Survived',axis =1)\n",
    "\n",
    "X_train, X_test, y_train, y_test = train_test_split(X, y,\n",
    "                                                   test_size=0.2, random_state=10)\n",
    "dt_clf = DecisionTreeClassifier()\n",
    "dt_clf.fit(X_train,y_train)\n",
    "pred = dt_clf.predict(X_test)\n",
    "print('정확도: {0:.4f}'.format(accuracy_score(y_test,pred)))\n",
    "print()\n",
    "\n",
    "def get_clf_eval(y_test,pred):\n",
    "    confusion = confusion_matrix(y_test,pred)\n",
    "    accuracy = accuracy_score(y_test,pred)\n",
    "    precision = precision_score(y_test,pred)\n",
    "    recall = recall_score(y_test,pred)\n",
    "    f1 = f1_score(y_test,pred)\n",
    "    roc_score=roc_auc_score(y_test,pred)\n",
    "    print('오차행렬')\n",
    "    print(confusion)\n",
    "    print()\n",
    "    print('정확도:{0:.4f}, 정밀도:{1:.4f}, 재현율:{2:.4f}, \\\n",
    "    f1 score:{3:.4f}, ROC AUC:{4:.4f}'.format(accuracy,precision,recall,f1, roc_score))\n",
    "\n",
    "\n",
    "\n",
    "get_clf_eval(y_test, pred)"
   ]
  },
  {
   "cell_type": "code",
   "execution_count": 93,
   "id": "necessary-allergy",
   "metadata": {},
   "outputs": [
    {
     "name": "stdout",
     "output_type": "stream",
     "text": [
      "정확도: 0.8659\n",
      "\n",
      "오차행렬\n",
      "[[108  10]\n",
      " [ 14  47]]\n",
      "\n",
      "정확도:0.8659, 정밀도:0.8246, 재현율:0.7705,     f1 score:0.7966, ROC AUC:0.8429\n"
     ]
    }
   ],
   "source": [
    "#lr\n",
    "\n",
    "from sklearn.linear_model import LogisticRegression\n",
    "\n",
    "\n",
    "y = df['Survived']\n",
    "X = df.drop('Survived',axis =1)\n",
    "\n",
    "X_train, X_test, y_train, y_test = train_test_split(X, y,\n",
    "                                                   test_size=0.2, random_state=11)\n",
    "lr_clf = LogisticRegression()\n",
    "lr_clf.fit(X_train,y_train)\n",
    "pred = lr_clf.predict(X_test)\n",
    "print('정확도: {0:.4f}'.format(accuracy_score(y_test,pred)))\n",
    "print()\n",
    "\n",
    "get_clf_eval(y_test, pred)"
   ]
  },
  {
   "cell_type": "code",
   "execution_count": 92,
   "id": "anticipated-problem",
   "metadata": {
    "scrolled": false
   },
   "outputs": [
    {
     "name": "stdout",
     "output_type": "stream",
     "text": [
      "정확도: 0.8324\n",
      "\n",
      "오차행렬\n",
      "[[109   9]\n",
      " [ 21  40]]\n",
      "\n",
      "정확도:0.8324, 정밀도:0.8163, 재현율:0.6557,     f1 score:0.7273, ROC AUC:0.7897\n"
     ]
    }
   ],
   "source": [
    "#rf\n",
    "from sklearn.ensemble import RandomForestClassifier\n",
    "\n",
    "y = df['Survived']\n",
    "X = df.drop('Survived',axis =1)\n",
    "\n",
    "X_train, X_test, y_train, y_test = train_test_split(X, y,\n",
    "                                                   test_size=0.2, random_state=11)\n",
    "rf_model = RandomForestClassifier()\n",
    "rf_model.fit(X_train,y_train)\n",
    "pred = rf_model.predict(X_test)\n",
    "print('정확도: {0:.4f}'.format(accuracy_score(y_test,pred)))\n",
    "\n",
    "print()\n",
    "\n",
    "get_clf_eval(y_test, pred)\n"
   ]
  },
  {
   "cell_type": "markdown",
   "id": "constant-sudan",
   "metadata": {},
   "source": [
    "## 하이퍼파라미터 튜닝"
   ]
  },
  {
   "cell_type": "code",
   "execution_count": 91,
   "id": "bridal-newsletter",
   "metadata": {},
   "outputs": [
    {
     "name": "stdout",
     "output_type": "stream",
     "text": [
      "GridSearchCV 최적 파라미터: {'max_depth': 3, 'min_samples_split': 2}\n",
      "GridSearchCV 최고 정확도: 0.810434\n",
      "테스트 데이터 세트 정확도: 0.8771\n"
     ]
    }
   ],
   "source": [
    "from sklearn.model_selection import GridSearchCV\n",
    "\n",
    "\n",
    "X_train, X_test, y_train, y_test = train_test_split(X,y,\n",
    "                                                   test_size=0.2, random_state=11)\n",
    "dt_clf = DecisionTreeClassifier()\n",
    "parameters = {'max_depth':[1,2,3], 'min_samples_split':[2,3]}\n",
    "\n",
    "grid_dtree = GridSearchCV(dt_clf, param_grid=parameters, cv=3, refit=True)\n",
    "grid_dtree.fit(X_train,y_train)\n",
    "\n",
    "print('GridSearchCV 최적 파라미터:',grid_dtree.best_params_)\n",
    "print('GridSearchCV 최고 정확도: {0:4f}'.format(grid_dtree.best_score_))\n",
    "\n",
    "estimator = grid_dtree.best_estimator_\n",
    "pred = estimator.predict(X_test)\n",
    "print('테스트 데이터 세트 정확도: {0:.4f}'.format(accuracy_score(y_test,pred)))"
   ]
  }
 ],
 "metadata": {
  "kernelspec": {
   "display_name": "Python 3",
   "language": "python",
   "name": "python3"
  },
  "language_info": {
   "codemirror_mode": {
    "name": "ipython",
    "version": 3
   },
   "file_extension": ".py",
   "mimetype": "text/x-python",
   "name": "python",
   "nbconvert_exporter": "python",
   "pygments_lexer": "ipython3",
   "version": "3.7.9"
  }
 },
 "nbformat": 4,
 "nbformat_minor": 5
}
