{
 "cells": [
  {
   "cell_type": "code",
   "execution_count": 1,
   "metadata": {},
   "outputs": [],
   "source": [
    "import pickle\n",
    "import pandas as pd\n",
    "import numpy as np\n",
    "import matplotlib.pyplot as plt\n",
    "import seaborn as sns\n",
    "import warnings\n",
    "warnings.filterwarnings('ignore')\n",
    "plt.rc('figure', figsize = (15,10))"
   ]
  },
  {
   "cell_type": "code",
   "execution_count": 2,
   "metadata": {
    "scrolled": true
   },
   "outputs": [
    {
     "data": {
      "text/html": [
       "<div>\n",
       "<style scoped>\n",
       "    .dataframe tbody tr th:only-of-type {\n",
       "        vertical-align: middle;\n",
       "    }\n",
       "\n",
       "    .dataframe tbody tr th {\n",
       "        vertical-align: top;\n",
       "    }\n",
       "\n",
       "    .dataframe thead th {\n",
       "        text-align: right;\n",
       "    }\n",
       "</style>\n",
       "<table border=\"1\" class=\"dataframe\">\n",
       "  <thead>\n",
       "    <tr style=\"text-align: right;\">\n",
       "      <th></th>\n",
       "      <th>RECEIPTNO</th>\n",
       "      <th>CUSTNO</th>\n",
       "      <th>PURCHDATE</th>\n",
       "      <th>PURCHTIME</th>\n",
       "      <th>AFFIL</th>\n",
       "      <th>CLASSCODEL</th>\n",
       "      <th>CLASSCODEM</th>\n",
       "      <th>CLASSCODES</th>\n",
       "      <th>STORENO</th>\n",
       "      <th>GENDER</th>\n",
       "      <th>AGEGROUP</th>\n",
       "      <th>RESIDENCE</th>\n",
       "      <th>PURCHAMOUNT</th>\n",
       "      <th>Year</th>\n",
       "      <th>AFFIL_CLASS</th>\n",
       "    </tr>\n",
       "  </thead>\n",
       "  <tbody>\n",
       "    <tr>\n",
       "      <th>0</th>\n",
       "      <td>08068631</td>\n",
       "      <td>07122</td>\n",
       "      <td>2014-09-06</td>\n",
       "      <td>17</td>\n",
       "      <td>B</td>\n",
       "      <td>8</td>\n",
       "      <td>0802</td>\n",
       "      <td>B080203</td>\n",
       "      <td>028</td>\n",
       "      <td>M</td>\n",
       "      <td>40세~44세</td>\n",
       "      <td>100</td>\n",
       "      <td>14000</td>\n",
       "      <td>2014</td>\n",
       "      <td>B8</td>\n",
       "    </tr>\n",
       "    <tr>\n",
       "      <th>1</th>\n",
       "      <td>08942410</td>\n",
       "      <td>17967</td>\n",
       "      <td>2014-11-30</td>\n",
       "      <td>15</td>\n",
       "      <td>B</td>\n",
       "      <td>15</td>\n",
       "      <td>1502</td>\n",
       "      <td>B150203</td>\n",
       "      <td>050</td>\n",
       "      <td>M</td>\n",
       "      <td>20세~24세</td>\n",
       "      <td>100</td>\n",
       "      <td>1750</td>\n",
       "      <td>2014</td>\n",
       "      <td>B15</td>\n",
       "    </tr>\n",
       "    <tr>\n",
       "      <th>2</th>\n",
       "      <td>08942410</td>\n",
       "      <td>17967</td>\n",
       "      <td>2014-11-30</td>\n",
       "      <td>15</td>\n",
       "      <td>B</td>\n",
       "      <td>47</td>\n",
       "      <td>4703</td>\n",
       "      <td>B470302</td>\n",
       "      <td>050</td>\n",
       "      <td>M</td>\n",
       "      <td>20세~24세</td>\n",
       "      <td>100</td>\n",
       "      <td>7900</td>\n",
       "      <td>2014</td>\n",
       "      <td>B47</td>\n",
       "    </tr>\n",
       "    <tr>\n",
       "      <th>3</th>\n",
       "      <td>08942410</td>\n",
       "      <td>17967</td>\n",
       "      <td>2014-11-30</td>\n",
       "      <td>15</td>\n",
       "      <td>B</td>\n",
       "      <td>77</td>\n",
       "      <td>7707</td>\n",
       "      <td>B770702</td>\n",
       "      <td>050</td>\n",
       "      <td>M</td>\n",
       "      <td>20세~24세</td>\n",
       "      <td>100</td>\n",
       "      <td>16898</td>\n",
       "      <td>2014</td>\n",
       "      <td>B77</td>\n",
       "    </tr>\n",
       "    <tr>\n",
       "      <th>4</th>\n",
       "      <td>08942410</td>\n",
       "      <td>17967</td>\n",
       "      <td>2014-11-30</td>\n",
       "      <td>15</td>\n",
       "      <td>B</td>\n",
       "      <td>82</td>\n",
       "      <td>8202</td>\n",
       "      <td>B820201</td>\n",
       "      <td>050</td>\n",
       "      <td>M</td>\n",
       "      <td>20세~24세</td>\n",
       "      <td>100</td>\n",
       "      <td>7731</td>\n",
       "      <td>2014</td>\n",
       "      <td>B82</td>\n",
       "    </tr>\n",
       "    <tr>\n",
       "      <th>...</th>\n",
       "      <td>...</td>\n",
       "      <td>...</td>\n",
       "      <td>...</td>\n",
       "      <td>...</td>\n",
       "      <td>...</td>\n",
       "      <td>...</td>\n",
       "      <td>...</td>\n",
       "      <td>...</td>\n",
       "      <td>...</td>\n",
       "      <td>...</td>\n",
       "      <td>...</td>\n",
       "      <td>...</td>\n",
       "      <td>...</td>\n",
       "      <td>...</td>\n",
       "      <td>...</td>\n",
       "    </tr>\n",
       "    <tr>\n",
       "      <th>3449415</th>\n",
       "      <td>07143341</td>\n",
       "      <td>08054</td>\n",
       "      <td>2015-10-20</td>\n",
       "      <td>18</td>\n",
       "      <td>B</td>\n",
       "      <td>45</td>\n",
       "      <td>4506</td>\n",
       "      <td>B450601</td>\n",
       "      <td>013</td>\n",
       "      <td>F</td>\n",
       "      <td>35세~39세</td>\n",
       "      <td>055</td>\n",
       "      <td>15800</td>\n",
       "      <td>2015</td>\n",
       "      <td>B45</td>\n",
       "    </tr>\n",
       "    <tr>\n",
       "      <th>3449416</th>\n",
       "      <td>07143342</td>\n",
       "      <td>05446</td>\n",
       "      <td>2015-10-20</td>\n",
       "      <td>19</td>\n",
       "      <td>B</td>\n",
       "      <td>18</td>\n",
       "      <td>1807</td>\n",
       "      <td>B180707</td>\n",
       "      <td>013</td>\n",
       "      <td>F</td>\n",
       "      <td>45세~49세</td>\n",
       "      <td>055</td>\n",
       "      <td>2000</td>\n",
       "      <td>2015</td>\n",
       "      <td>B18</td>\n",
       "    </tr>\n",
       "    <tr>\n",
       "      <th>3449417</th>\n",
       "      <td>07598192</td>\n",
       "      <td>01584</td>\n",
       "      <td>2015-09-16</td>\n",
       "      <td>10</td>\n",
       "      <td>B</td>\n",
       "      <td>90</td>\n",
       "      <td>9001</td>\n",
       "      <td>B900103</td>\n",
       "      <td>018</td>\n",
       "      <td>F</td>\n",
       "      <td>55세~59세</td>\n",
       "      <td>100</td>\n",
       "      <td>11850</td>\n",
       "      <td>2015</td>\n",
       "      <td>B90</td>\n",
       "    </tr>\n",
       "    <tr>\n",
       "      <th>3449418</th>\n",
       "      <td>07598193</td>\n",
       "      <td>00033</td>\n",
       "      <td>2015-09-16</td>\n",
       "      <td>15</td>\n",
       "      <td>B</td>\n",
       "      <td>5</td>\n",
       "      <td>0510</td>\n",
       "      <td>B051005</td>\n",
       "      <td>018</td>\n",
       "      <td>M</td>\n",
       "      <td>60세이상</td>\n",
       "      <td>100</td>\n",
       "      <td>3160</td>\n",
       "      <td>2015</td>\n",
       "      <td>B5</td>\n",
       "    </tr>\n",
       "    <tr>\n",
       "      <th>3449419</th>\n",
       "      <td>07598193</td>\n",
       "      <td>00033</td>\n",
       "      <td>2015-09-16</td>\n",
       "      <td>15</td>\n",
       "      <td>B</td>\n",
       "      <td>9</td>\n",
       "      <td>0903</td>\n",
       "      <td>B090302</td>\n",
       "      <td>018</td>\n",
       "      <td>M</td>\n",
       "      <td>60세이상</td>\n",
       "      <td>100</td>\n",
       "      <td>6900</td>\n",
       "      <td>2015</td>\n",
       "      <td>B9</td>\n",
       "    </tr>\n",
       "  </tbody>\n",
       "</table>\n",
       "<p>6919935 rows × 15 columns</p>\n",
       "</div>"
      ],
      "text/plain": [
       "        RECEIPTNO CUSTNO  PURCHDATE  PURCHTIME AFFIL  CLASSCODEL CLASSCODEM  \\\n",
       "0        08068631  07122 2014-09-06         17     B           8       0802   \n",
       "1        08942410  17967 2014-11-30         15     B          15       1502   \n",
       "2        08942410  17967 2014-11-30         15     B          47       4703   \n",
       "3        08942410  17967 2014-11-30         15     B          77       7707   \n",
       "4        08942410  17967 2014-11-30         15     B          82       8202   \n",
       "...           ...    ...        ...        ...   ...         ...        ...   \n",
       "3449415  07143341  08054 2015-10-20         18     B          45       4506   \n",
       "3449416  07143342  05446 2015-10-20         19     B          18       1807   \n",
       "3449417  07598192  01584 2015-09-16         10     B          90       9001   \n",
       "3449418  07598193  00033 2015-09-16         15     B           5       0510   \n",
       "3449419  07598193  00033 2015-09-16         15     B           9       0903   \n",
       "\n",
       "        CLASSCODES STORENO GENDER AGEGROUP RESIDENCE  PURCHAMOUNT  Year  \\\n",
       "0          B080203     028      M  40세~44세       100        14000  2014   \n",
       "1          B150203     050      M  20세~24세       100         1750  2014   \n",
       "2          B470302     050      M  20세~24세       100         7900  2014   \n",
       "3          B770702     050      M  20세~24세       100        16898  2014   \n",
       "4          B820201     050      M  20세~24세       100         7731  2014   \n",
       "...            ...     ...    ...      ...       ...          ...   ...   \n",
       "3449415    B450601     013      F  35세~39세       055        15800  2015   \n",
       "3449416    B180707     013      F  45세~49세       055         2000  2015   \n",
       "3449417    B900103     018      F  55세~59세       100        11850  2015   \n",
       "3449418    B051005     018      M    60세이상       100         3160  2015   \n",
       "3449419    B090302     018      M    60세이상       100         6900  2015   \n",
       "\n",
       "        AFFIL_CLASS  \n",
       "0                B8  \n",
       "1               B15  \n",
       "2               B47  \n",
       "3               B77  \n",
       "4               B82  \n",
       "...             ...  \n",
       "3449415         B45  \n",
       "3449416         B18  \n",
       "3449417         B90  \n",
       "3449418          B5  \n",
       "3449419          B9  \n",
       "\n",
       "[6919935 rows x 15 columns]"
      ]
     },
     "execution_count": 2,
     "metadata": {},
     "output_type": "execute_result"
    }
   ],
   "source": [
    "dff_1415 = pd.read_pickle('./dataset/fall1415.pkl')\n",
    "dff_1415"
   ]
  },
  {
   "cell_type": "code",
   "execution_count": 2,
   "metadata": {},
   "outputs": [],
   "source": [
    "# 가을시즌 제휴사별 매출총액\n",
    "\n",
    "df = pd.read_pickle('dataset/set_data.pkl')\n"
   ]
  },
  {
   "cell_type": "code",
   "execution_count": 4,
   "metadata": {},
   "outputs": [
    {
     "data": {
      "text/plain": [
       "AFFIL\n",
       "A    143519702520\n",
       "B     27310194457\n",
       "C     13084071419\n",
       "D       251521929\n",
       "Name: PURCHAMOUNT, dtype: int64"
      ]
     },
     "execution_count": 4,
     "metadata": {},
     "output_type": "execute_result"
    },
    {
     "data": {
      "image/png": "[encoded data removed]",
      "text/plain": [
       "<Figure size 1080x720 with 1 Axes>"
      ]
     },
     "metadata": {
      "needs_background": "light"
     },
     "output_type": "display_data"
    }
   ],
   "source": [
    "# 가을시즌 제휴사별 매출 총액\n",
    "plt.title('AFFIL_TOTAL', size = 25)\n",
    "plt.xlabel('AFFIL',size =20)\n",
    "plt.ylabel('TOTAL',size =20)\n",
    "a = df.groupby('AFFIL').sum()['PURCHAMOUNT']\n",
    "a.plot(kind='bar',color = 'skyblue')\n",
    "a"
   ]
  },
  {
   "cell_type": "code",
   "execution_count": 14,
   "metadata": {},
   "outputs": [
    {
     "data": {
      "text/plain": [
       "AFFIL\n",
       "A    101880.883537\n",
       "B      8554.544293\n",
       "C      5716.856122\n",
       "D      8363.712599\n",
       "Name: PURCHAMOUNT, dtype: float64"
      ]
     },
     "execution_count": 14,
     "metadata": {},
     "output_type": "execute_result"
    },
    {
     "data": {
      "image/png": "[encoded data removed]",
      "text/plain": [
       "<Figure size 1080x720 with 1 Axes>"
      ]
     },
     "metadata": {
      "needs_background": "light"
     },
     "output_type": "display_data"
    }
   ],
   "source": [
    "# 가을시즌 제휴사별 매출 평균\n",
    "plt.title('AFFIL_MEAN', size = 25)\n",
    "plt.xlabel('AFFIL',size =20)\n",
    "plt.ylabel('Mean_Value',size =20)\n",
    "a = df.groupby('AFFIL').mean()['PURCHAMOUNT']\n",
    "a.plot(kind='bar', color = 'pink' )\n",
    "a"
   ]
  },
  {
   "cell_type": "code",
   "execution_count": 15,
   "metadata": {
    "scrolled": false
   },
   "outputs": [
    {
     "data": {
      "text/plain": [
       "B    3192478\n",
       "C    2288683\n",
       "A    1408701\n",
       "D      30073\n",
       "Name: AFFIL, dtype: int64"
      ]
     },
     "execution_count": 15,
     "metadata": {},
     "output_type": "execute_result"
    },
    {
     "data": {
      "image/png": "[encoded data removed]",
      "text/plain": [
       "<Figure size 1080x720 with 1 Axes>"
      ]
     },
     "metadata": {
      "needs_background": "light"
     },
     "output_type": "display_data"
    }
   ],
   "source": [
    "# 제휴사별 구매빈도\n",
    "plt.title('AFFIL_COUNT', size = 25)\n",
    "plt.xlabel('AFFIL',size =20)\n",
    "plt.ylabel('COUNT',size =20)\n",
    "sns.countplot('AFFIL', data = df)\n",
    "df.AFFIL.value_counts()"
   ]
  },
  {
   "cell_type": "code",
   "execution_count": 6,
   "metadata": {},
   "outputs": [
    {
     "data": {
      "text/plain": [
       "AFFIL_CLASS\n",
       "A1    17001742540\n",
       "A2    20498515940\n",
       "A3     4803193580\n",
       "A4    43935622740\n",
       "A5     9621540180\n",
       "         ...     \n",
       "D4       32255090\n",
       "D5        8923400\n",
       "D6       12986100\n",
       "D7        9199800\n",
       "D8       38451450\n",
       "Name: PURCHAMOUNT, Length: 125, dtype: int64"
      ]
     },
     "execution_count": 6,
     "metadata": {},
     "output_type": "execute_result"
    },
    {
     "data": {
      "image/png": "[encoded data removed]",
      "text/plain": [
       "<Figure size 1080x720 with 1 Axes>"
      ]
     },
     "metadata": {
      "needs_background": "light"
     },
     "output_type": "display_data"
    }
   ],
   "source": [
    "a = df.groupby('AFFIL_CLASS').sum()['PURCHAMOUNT']\n",
    "a.plot(kind='bar',color = 'black')\n",
    "a\n"
   ]
  },
  {
   "cell_type": "code",
   "execution_count": 5,
   "metadata": {
    "scrolled": true
   },
   "outputs": [
    {
     "data": {
      "text/html": [
       "<div>\n",
       "<style scoped>\n",
       "    .dataframe tbody tr th:only-of-type {\n",
       "        vertical-align: middle;\n",
       "    }\n",
       "\n",
       "    .dataframe tbody tr th {\n",
       "        vertical-align: top;\n",
       "    }\n",
       "\n",
       "    .dataframe thead th {\n",
       "        text-align: right;\n",
       "    }\n",
       "</style>\n",
       "<table border=\"1\" class=\"dataframe\">\n",
       "  <thead>\n",
       "    <tr style=\"text-align: right;\">\n",
       "      <th></th>\n",
       "      <th>RECEIPTNO</th>\n",
       "      <th>CUSTNO</th>\n",
       "      <th>PURCHDATE</th>\n",
       "      <th>PURCHTIME</th>\n",
       "      <th>AFFIL</th>\n",
       "      <th>CLASSCODEL</th>\n",
       "      <th>CLASSCODEM</th>\n",
       "      <th>CLASSCODES</th>\n",
       "      <th>STORENO</th>\n",
       "      <th>GENDER</th>\n",
       "      <th>AGEGROUP</th>\n",
       "      <th>RESIDENCE</th>\n",
       "      <th>PURCHAMOUNT</th>\n",
       "      <th>Year</th>\n",
       "      <th>AFFIL_CLASS</th>\n",
       "      <th>prod_cat</th>\n",
       "    </tr>\n",
       "  </thead>\n",
       "  <tbody>\n",
       "    <tr>\n",
       "      <th>0</th>\n",
       "      <td>08068631</td>\n",
       "      <td>07122</td>\n",
       "      <td>2014-09-06</td>\n",
       "      <td>17</td>\n",
       "      <td>B</td>\n",
       "      <td>8</td>\n",
       "      <td>0802</td>\n",
       "      <td>B080203</td>\n",
       "      <td>028</td>\n",
       "      <td>M</td>\n",
       "      <td>40세~44세</td>\n",
       "      <td>100</td>\n",
       "      <td>14000</td>\n",
       "      <td>2014</td>\n",
       "      <td>B8</td>\n",
       "      <td>Etc</td>\n",
       "    </tr>\n",
       "    <tr>\n",
       "      <th>1</th>\n",
       "      <td>08942410</td>\n",
       "      <td>17967</td>\n",
       "      <td>2014-11-30</td>\n",
       "      <td>15</td>\n",
       "      <td>B</td>\n",
       "      <td>15</td>\n",
       "      <td>1502</td>\n",
       "      <td>B150203</td>\n",
       "      <td>050</td>\n",
       "      <td>M</td>\n",
       "      <td>20세~24세</td>\n",
       "      <td>100</td>\n",
       "      <td>1750</td>\n",
       "      <td>2014</td>\n",
       "      <td>B15</td>\n",
       "      <td>Food</td>\n",
       "    </tr>\n",
       "    <tr>\n",
       "      <th>2</th>\n",
       "      <td>08942410</td>\n",
       "      <td>17967</td>\n",
       "      <td>2014-11-30</td>\n",
       "      <td>15</td>\n",
       "      <td>B</td>\n",
       "      <td>47</td>\n",
       "      <td>4703</td>\n",
       "      <td>B470302</td>\n",
       "      <td>050</td>\n",
       "      <td>M</td>\n",
       "      <td>20세~24세</td>\n",
       "      <td>100</td>\n",
       "      <td>7900</td>\n",
       "      <td>2014</td>\n",
       "      <td>B47</td>\n",
       "      <td>Food</td>\n",
       "    </tr>\n",
       "    <tr>\n",
       "      <th>3</th>\n",
       "      <td>08942410</td>\n",
       "      <td>17967</td>\n",
       "      <td>2014-11-30</td>\n",
       "      <td>15</td>\n",
       "      <td>B</td>\n",
       "      <td>77</td>\n",
       "      <td>7707</td>\n",
       "      <td>B770702</td>\n",
       "      <td>050</td>\n",
       "      <td>M</td>\n",
       "      <td>20세~24세</td>\n",
       "      <td>100</td>\n",
       "      <td>16898</td>\n",
       "      <td>2014</td>\n",
       "      <td>B77</td>\n",
       "      <td>Item</td>\n",
       "    </tr>\n",
       "    <tr>\n",
       "      <th>4</th>\n",
       "      <td>08942410</td>\n",
       "      <td>17967</td>\n",
       "      <td>2014-11-30</td>\n",
       "      <td>15</td>\n",
       "      <td>B</td>\n",
       "      <td>82</td>\n",
       "      <td>8202</td>\n",
       "      <td>B820201</td>\n",
       "      <td>050</td>\n",
       "      <td>M</td>\n",
       "      <td>20세~24세</td>\n",
       "      <td>100</td>\n",
       "      <td>7731</td>\n",
       "      <td>2014</td>\n",
       "      <td>B82</td>\n",
       "      <td>Food</td>\n",
       "    </tr>\n",
       "    <tr>\n",
       "      <th>...</th>\n",
       "      <td>...</td>\n",
       "      <td>...</td>\n",
       "      <td>...</td>\n",
       "      <td>...</td>\n",
       "      <td>...</td>\n",
       "      <td>...</td>\n",
       "      <td>...</td>\n",
       "      <td>...</td>\n",
       "      <td>...</td>\n",
       "      <td>...</td>\n",
       "      <td>...</td>\n",
       "      <td>...</td>\n",
       "      <td>...</td>\n",
       "      <td>...</td>\n",
       "      <td>...</td>\n",
       "      <td>...</td>\n",
       "    </tr>\n",
       "    <tr>\n",
       "      <th>3449415</th>\n",
       "      <td>07143341</td>\n",
       "      <td>08054</td>\n",
       "      <td>2015-10-20</td>\n",
       "      <td>18</td>\n",
       "      <td>B</td>\n",
       "      <td>45</td>\n",
       "      <td>4506</td>\n",
       "      <td>B450601</td>\n",
       "      <td>013</td>\n",
       "      <td>F</td>\n",
       "      <td>35세~39세</td>\n",
       "      <td>055</td>\n",
       "      <td>15800</td>\n",
       "      <td>2015</td>\n",
       "      <td>B45</td>\n",
       "      <td>Etc</td>\n",
       "    </tr>\n",
       "    <tr>\n",
       "      <th>3449416</th>\n",
       "      <td>07143342</td>\n",
       "      <td>05446</td>\n",
       "      <td>2015-10-20</td>\n",
       "      <td>19</td>\n",
       "      <td>B</td>\n",
       "      <td>18</td>\n",
       "      <td>1807</td>\n",
       "      <td>B180707</td>\n",
       "      <td>013</td>\n",
       "      <td>F</td>\n",
       "      <td>45세~49세</td>\n",
       "      <td>055</td>\n",
       "      <td>2000</td>\n",
       "      <td>2015</td>\n",
       "      <td>B18</td>\n",
       "      <td>Item</td>\n",
       "    </tr>\n",
       "    <tr>\n",
       "      <th>3449417</th>\n",
       "      <td>07598192</td>\n",
       "      <td>01584</td>\n",
       "      <td>2015-09-16</td>\n",
       "      <td>10</td>\n",
       "      <td>B</td>\n",
       "      <td>90</td>\n",
       "      <td>9001</td>\n",
       "      <td>B900103</td>\n",
       "      <td>018</td>\n",
       "      <td>F</td>\n",
       "      <td>55세~59세</td>\n",
       "      <td>100</td>\n",
       "      <td>11850</td>\n",
       "      <td>2015</td>\n",
       "      <td>B90</td>\n",
       "      <td>Etc</td>\n",
       "    </tr>\n",
       "    <tr>\n",
       "      <th>3449418</th>\n",
       "      <td>07598193</td>\n",
       "      <td>00033</td>\n",
       "      <td>2015-09-16</td>\n",
       "      <td>15</td>\n",
       "      <td>B</td>\n",
       "      <td>5</td>\n",
       "      <td>0510</td>\n",
       "      <td>B051005</td>\n",
       "      <td>018</td>\n",
       "      <td>M</td>\n",
       "      <td>60세이상</td>\n",
       "      <td>100</td>\n",
       "      <td>3160</td>\n",
       "      <td>2015</td>\n",
       "      <td>B5</td>\n",
       "      <td>Food</td>\n",
       "    </tr>\n",
       "    <tr>\n",
       "      <th>3449419</th>\n",
       "      <td>07598193</td>\n",
       "      <td>00033</td>\n",
       "      <td>2015-09-16</td>\n",
       "      <td>15</td>\n",
       "      <td>B</td>\n",
       "      <td>9</td>\n",
       "      <td>0903</td>\n",
       "      <td>B090302</td>\n",
       "      <td>018</td>\n",
       "      <td>M</td>\n",
       "      <td>60세이상</td>\n",
       "      <td>100</td>\n",
       "      <td>6900</td>\n",
       "      <td>2015</td>\n",
       "      <td>B9</td>\n",
       "      <td>Food</td>\n",
       "    </tr>\n",
       "  </tbody>\n",
       "</table>\n",
       "<p>6919935 rows × 16 columns</p>\n",
       "</div>"
      ],
      "text/plain": [
       "        RECEIPTNO CUSTNO  PURCHDATE  PURCHTIME AFFIL  CLASSCODEL CLASSCODEM  \\\n",
       "0        08068631  07122 2014-09-06         17     B           8       0802   \n",
       "1        08942410  17967 2014-11-30         15     B          15       1502   \n",
       "2        08942410  17967 2014-11-30         15     B          47       4703   \n",
       "3        08942410  17967 2014-11-30         15     B          77       7707   \n",
       "4        08942410  17967 2014-11-30         15     B          82       8202   \n",
       "...           ...    ...        ...        ...   ...         ...        ...   \n",
       "3449415  07143341  08054 2015-10-20         18     B          45       4506   \n",
       "3449416  07143342  05446 2015-10-20         19     B          18       1807   \n",
       "3449417  07598192  01584 2015-09-16         10     B          90       9001   \n",
       "3449418  07598193  00033 2015-09-16         15     B           5       0510   \n",
       "3449419  07598193  00033 2015-09-16         15     B           9       0903   \n",
       "\n",
       "        CLASSCODES STORENO GENDER AGEGROUP RESIDENCE  PURCHAMOUNT  Year  \\\n",
       "0          B080203     028      M  40세~44세       100        14000  2014   \n",
       "1          B150203     050      M  20세~24세       100         1750  2014   \n",
       "2          B470302     050      M  20세~24세       100         7900  2014   \n",
       "3          B770702     050      M  20세~24세       100        16898  2014   \n",
       "4          B820201     050      M  20세~24세       100         7731  2014   \n",
       "...            ...     ...    ...      ...       ...          ...   ...   \n",
       "3449415    B450601     013      F  35세~39세       055        15800  2015   \n",
       "3449416    B180707     013      F  45세~49세       055         2000  2015   \n",
       "3449417    B900103     018      F  55세~59세       100        11850  2015   \n",
       "3449418    B051005     018      M    60세이상       100         3160  2015   \n",
       "3449419    B090302     018      M    60세이상       100         6900  2015   \n",
       "\n",
       "        AFFIL_CLASS prod_cat  \n",
       "0                B8      Etc  \n",
       "1               B15     Food  \n",
       "2               B47     Food  \n",
       "3               B77     Item  \n",
       "4               B82     Food  \n",
       "...             ...      ...  \n",
       "3449415         B45      Etc  \n",
       "3449416         B18     Item  \n",
       "3449417         B90      Etc  \n",
       "3449418          B5     Food  \n",
       "3449419          B9     Food  \n",
       "\n",
       "[6919935 rows x 16 columns]"
      ]
     },
     "execution_count": 5,
     "metadata": {},
     "output_type": "execute_result"
    }
   ],
   "source": [
    "total_food = ['A1','B1', 'B2', 'B3', 'B4', 'B5', 'B6',\n",
    "          'B7', 'B9', 'B10', 'B11', 'B12', 'B13', 'B14', 'B15', 'B16','B37', 'B38',\n",
    "          'B43', 'B46', 'B47', 'B48','B52', 'B53', 'B54', 'B55',\n",
    "          'B56', 'B57', 'B58', 'B59', 'B60', 'B61', 'B62', 'B63',\n",
    "          'B64', 'B65', 'B67', 'B72','B81', 'B82', 'B83', 'B89', 'B91', 'B92',\n",
    "         'C1', 'C2', 'C3', 'C4', 'C5', 'C6', 'C7', 'C8', 'C9',\n",
    "         'C10', 'C11', 'C12', 'C13', 'C14', 'C15', 'D4']\n",
    "\n",
    "\n",
    "total_nor = ['A2', 'A3', 'A9', 'A10', 'B17',\n",
    "        'B18', 'B19', 'B20', 'B21', 'B22', 'B23', 'B24', 'B25', 'B31', 'B32',\n",
    "         'B34', 'B35', 'B66', 'B67','B77', 'B79', 'B80', 'B84', 'B86', 'B87', 'B88',\n",
    "             'C16', 'C17', 'D1', 'D2', 'D3', 'D5', 'D6', 'D7']\n",
    "\n",
    "total_cloth = ['A4', 'A5', 'B29','B30', 'B32', 'B33', 'B44',\n",
    "               'B49', 'B50', 'B51', 'B68', 'B69']\n",
    "\n",
    "total_hobby = ['A6', 'B25', 'B26', 'B27', 'B35', 'B36', 'B71']\n",
    "\n",
    "total_rich = ['A8', 'B28', 'B70']\n",
    "total_etc = ['B8', 'B45', 'B90', 'D7', 'D8']\n",
    "\n",
    "\n",
    "def prod_cat(data):\n",
    "    if data in total_food:\n",
    "        return 'Food'\n",
    "    elif data in total_nor:\n",
    "        return 'Item'\n",
    "    elif data in total_cloth:\n",
    "        return 'Cloth'\n",
    "    elif data in total_hobby:\n",
    "        return 'Hobby'\n",
    "    elif data in total_rich:\n",
    "        return 'Rich'\n",
    "    elif data in total_etc:\n",
    "        return 'Etc'\n",
    "    \n",
    "\n",
    "df['prod_cat'] = df.AFFIL_CLASS.map(prod_cat)\n",
    "df\n"
   ]
  },
  {
   "cell_type": "code",
   "execution_count": 6,
   "metadata": {
    "scrolled": true
   },
   "outputs": [
    {
     "data": {
      "text/html": [
       "<div>\n",
       "<style scoped>\n",
       "    .dataframe tbody tr th:only-of-type {\n",
       "        vertical-align: middle;\n",
       "    }\n",
       "\n",
       "    .dataframe tbody tr th {\n",
       "        vertical-align: top;\n",
       "    }\n",
       "\n",
       "    .dataframe thead th {\n",
       "        text-align: right;\n",
       "    }\n",
       "</style>\n",
       "<table border=\"1\" class=\"dataframe\">\n",
       "  <thead>\n",
       "    <tr style=\"text-align: right;\">\n",
       "      <th></th>\n",
       "      <th>RECEIPTNO</th>\n",
       "      <th>CUSTNO</th>\n",
       "      <th>PURCHDATE</th>\n",
       "      <th>PURCHTIME</th>\n",
       "      <th>AFFIL</th>\n",
       "      <th>CLASSCODEL</th>\n",
       "      <th>CLASSCODEM</th>\n",
       "      <th>CLASSCODES</th>\n",
       "      <th>STORENO</th>\n",
       "      <th>GENDER</th>\n",
       "      <th>AGEGROUP</th>\n",
       "      <th>RESIDENCE</th>\n",
       "      <th>PURCHAMOUNT</th>\n",
       "      <th>Year</th>\n",
       "      <th>AFFIL_CLASS</th>\n",
       "      <th>prod_cat</th>\n",
       "    </tr>\n",
       "  </thead>\n",
       "  <tbody>\n",
       "    <tr>\n",
       "      <th>19</th>\n",
       "      <td>08710614</td>\n",
       "      <td>09826</td>\n",
       "      <td>2014-11-27</td>\n",
       "      <td>17</td>\n",
       "      <td>B</td>\n",
       "      <td>74</td>\n",
       "      <td>7401</td>\n",
       "      <td>B740101</td>\n",
       "      <td>044</td>\n",
       "      <td>F</td>\n",
       "      <td>30세~34세</td>\n",
       "      <td>100</td>\n",
       "      <td>2750</td>\n",
       "      <td>2014</td>\n",
       "      <td>B74</td>\n",
       "      <td>None</td>\n",
       "    </tr>\n",
       "    <tr>\n",
       "      <th>26</th>\n",
       "      <td>08710615</td>\n",
       "      <td>17694</td>\n",
       "      <td>2014-11-27</td>\n",
       "      <td>18</td>\n",
       "      <td>B</td>\n",
       "      <td>73</td>\n",
       "      <td>7304</td>\n",
       "      <td>B730402</td>\n",
       "      <td>044</td>\n",
       "      <td>F</td>\n",
       "      <td>50세~54세</td>\n",
       "      <td>100</td>\n",
       "      <td>1980</td>\n",
       "      <td>2014</td>\n",
       "      <td>B73</td>\n",
       "      <td>None</td>\n",
       "    </tr>\n",
       "    <tr>\n",
       "      <th>62</th>\n",
       "      <td>08710118</td>\n",
       "      <td>17747</td>\n",
       "      <td>2014-11-24</td>\n",
       "      <td>22</td>\n",
       "      <td>B</td>\n",
       "      <td>74</td>\n",
       "      <td>7401</td>\n",
       "      <td>B740101</td>\n",
       "      <td>044</td>\n",
       "      <td>F</td>\n",
       "      <td>45세~49세</td>\n",
       "      <td>100</td>\n",
       "      <td>3170</td>\n",
       "      <td>2014</td>\n",
       "      <td>B74</td>\n",
       "      <td>None</td>\n",
       "    </tr>\n",
       "    <tr>\n",
       "      <th>200</th>\n",
       "      <td>07070061</td>\n",
       "      <td>03849</td>\n",
       "      <td>2014-10-30</td>\n",
       "      <td>16</td>\n",
       "      <td>B</td>\n",
       "      <td>74</td>\n",
       "      <td>7404</td>\n",
       "      <td>B740401</td>\n",
       "      <td>013</td>\n",
       "      <td>F</td>\n",
       "      <td>45세~49세</td>\n",
       "      <td>055</td>\n",
       "      <td>4960</td>\n",
       "      <td>2014</td>\n",
       "      <td>B74</td>\n",
       "      <td>None</td>\n",
       "    </tr>\n",
       "    <tr>\n",
       "      <th>205</th>\n",
       "      <td>07070062</td>\n",
       "      <td>04275</td>\n",
       "      <td>2014-10-30</td>\n",
       "      <td>16</td>\n",
       "      <td>B</td>\n",
       "      <td>73</td>\n",
       "      <td>7304</td>\n",
       "      <td>B730402</td>\n",
       "      <td>013</td>\n",
       "      <td>F</td>\n",
       "      <td>45세~49세</td>\n",
       "      <td>055</td>\n",
       "      <td>5980</td>\n",
       "      <td>2014</td>\n",
       "      <td>B73</td>\n",
       "      <td>None</td>\n",
       "    </tr>\n",
       "    <tr>\n",
       "      <th>...</th>\n",
       "      <td>...</td>\n",
       "      <td>...</td>\n",
       "      <td>...</td>\n",
       "      <td>...</td>\n",
       "      <td>...</td>\n",
       "      <td>...</td>\n",
       "      <td>...</td>\n",
       "      <td>...</td>\n",
       "      <td>...</td>\n",
       "      <td>...</td>\n",
       "      <td>...</td>\n",
       "      <td>...</td>\n",
       "      <td>...</td>\n",
       "      <td>...</td>\n",
       "      <td>...</td>\n",
       "      <td>...</td>\n",
       "    </tr>\n",
       "    <tr>\n",
       "      <th>3449322</th>\n",
       "      <td>08832227</td>\n",
       "      <td>17341</td>\n",
       "      <td>2015-09-15</td>\n",
       "      <td>16</td>\n",
       "      <td>B</td>\n",
       "      <td>73</td>\n",
       "      <td>7304</td>\n",
       "      <td>B730402</td>\n",
       "      <td>046</td>\n",
       "      <td>F</td>\n",
       "      <td>45세~49세</td>\n",
       "      <td>100</td>\n",
       "      <td>3300</td>\n",
       "      <td>2015</td>\n",
       "      <td>B73</td>\n",
       "      <td>None</td>\n",
       "    </tr>\n",
       "    <tr>\n",
       "      <th>3449337</th>\n",
       "      <td>10721363</td>\n",
       "      <td>16846</td>\n",
       "      <td>2015-09-19</td>\n",
       "      <td>18</td>\n",
       "      <td>B</td>\n",
       "      <td>73</td>\n",
       "      <td>7302</td>\n",
       "      <td>B730203</td>\n",
       "      <td>125</td>\n",
       "      <td>M</td>\n",
       "      <td>30세~34세</td>\n",
       "      <td>240</td>\n",
       "      <td>5500</td>\n",
       "      <td>2015</td>\n",
       "      <td>B73</td>\n",
       "      <td>None</td>\n",
       "    </tr>\n",
       "    <tr>\n",
       "      <th>3449374</th>\n",
       "      <td>10721393</td>\n",
       "      <td>12529</td>\n",
       "      <td>2015-09-20</td>\n",
       "      <td>22</td>\n",
       "      <td>B</td>\n",
       "      <td>74</td>\n",
       "      <td>7401</td>\n",
       "      <td>B740101</td>\n",
       "      <td>125</td>\n",
       "      <td>F</td>\n",
       "      <td>45세~49세</td>\n",
       "      <td>240</td>\n",
       "      <td>6340</td>\n",
       "      <td>2015</td>\n",
       "      <td>B74</td>\n",
       "      <td>None</td>\n",
       "    </tr>\n",
       "    <tr>\n",
       "      <th>3449383</th>\n",
       "      <td>10721395</td>\n",
       "      <td>16686</td>\n",
       "      <td>2015-09-20</td>\n",
       "      <td>21</td>\n",
       "      <td>B</td>\n",
       "      <td>74</td>\n",
       "      <td>7401</td>\n",
       "      <td>B740101</td>\n",
       "      <td>125</td>\n",
       "      <td>M</td>\n",
       "      <td>40세~44세</td>\n",
       "      <td>240</td>\n",
       "      <td>3170</td>\n",
       "      <td>2015</td>\n",
       "      <td>B74</td>\n",
       "      <td>None</td>\n",
       "    </tr>\n",
       "    <tr>\n",
       "      <th>3449388</th>\n",
       "      <td>10721396</td>\n",
       "      <td>14751</td>\n",
       "      <td>2015-09-20</td>\n",
       "      <td>22</td>\n",
       "      <td>B</td>\n",
       "      <td>74</td>\n",
       "      <td>7401</td>\n",
       "      <td>B740101</td>\n",
       "      <td>125</td>\n",
       "      <td>M</td>\n",
       "      <td>30세~34세</td>\n",
       "      <td>100</td>\n",
       "      <td>3300</td>\n",
       "      <td>2015</td>\n",
       "      <td>B74</td>\n",
       "      <td>None</td>\n",
       "    </tr>\n",
       "  </tbody>\n",
       "</table>\n",
       "<p>194096 rows × 16 columns</p>\n",
       "</div>"
      ],
      "text/plain": [
       "        RECEIPTNO CUSTNO  PURCHDATE  PURCHTIME AFFIL  CLASSCODEL CLASSCODEM  \\\n",
       "19       08710614  09826 2014-11-27         17     B          74       7401   \n",
       "26       08710615  17694 2014-11-27         18     B          73       7304   \n",
       "62       08710118  17747 2014-11-24         22     B          74       7401   \n",
       "200      07070061  03849 2014-10-30         16     B          74       7404   \n",
       "205      07070062  04275 2014-10-30         16     B          73       7304   \n",
       "...           ...    ...        ...        ...   ...         ...        ...   \n",
       "3449322  08832227  17341 2015-09-15         16     B          73       7304   \n",
       "3449337  10721363  16846 2015-09-19         18     B          73       7302   \n",
       "3449374  10721393  12529 2015-09-20         22     B          74       7401   \n",
       "3449383  10721395  16686 2015-09-20         21     B          74       7401   \n",
       "3449388  10721396  14751 2015-09-20         22     B          74       7401   \n",
       "\n",
       "        CLASSCODES STORENO GENDER AGEGROUP RESIDENCE  PURCHAMOUNT  Year  \\\n",
       "19         B740101     044      F  30세~34세       100         2750  2014   \n",
       "26         B730402     044      F  50세~54세       100         1980  2014   \n",
       "62         B740101     044      F  45세~49세       100         3170  2014   \n",
       "200        B740401     013      F  45세~49세       055         4960  2014   \n",
       "205        B730402     013      F  45세~49세       055         5980  2014   \n",
       "...            ...     ...    ...      ...       ...          ...   ...   \n",
       "3449322    B730402     046      F  45세~49세       100         3300  2015   \n",
       "3449337    B730203     125      M  30세~34세       240         5500  2015   \n",
       "3449374    B740101     125      F  45세~49세       240         6340  2015   \n",
       "3449383    B740101     125      M  40세~44세       240         3170  2015   \n",
       "3449388    B740101     125      M  30세~34세       100         3300  2015   \n",
       "\n",
       "        AFFIL_CLASS prod_cat  \n",
       "19              B74     None  \n",
       "26              B73     None  \n",
       "62              B74     None  \n",
       "200             B74     None  \n",
       "205             B73     None  \n",
       "...             ...      ...  \n",
       "3449322         B73     None  \n",
       "3449337         B73     None  \n",
       "3449374         B74     None  \n",
       "3449383         B74     None  \n",
       "3449388         B74     None  \n",
       "\n",
       "[194096 rows x 16 columns]"
      ]
     },
     "execution_count": 6,
     "metadata": {},
     "output_type": "execute_result"
    }
   ],
   "source": [
    "ndf[ndf.prod_cat.isnull()]"
   ]
  },
  {
   "cell_type": "code",
   "execution_count": 13,
   "metadata": {},
   "outputs": [
    {
     "data": {
      "text/html": [
       "<div>\n",
       "<style scoped>\n",
       "    .dataframe tbody tr th:only-of-type {\n",
       "        vertical-align: middle;\n",
       "    }\n",
       "\n",
       "    .dataframe tbody tr th {\n",
       "        vertical-align: top;\n",
       "    }\n",
       "\n",
       "    .dataframe thead th {\n",
       "        text-align: right;\n",
       "    }\n",
       "</style>\n",
       "<table border=\"1\" class=\"dataframe\">\n",
       "  <thead>\n",
       "    <tr style=\"text-align: right;\">\n",
       "      <th></th>\n",
       "      <th>RECEIPTNO</th>\n",
       "      <th>CUSTNO</th>\n",
       "      <th>PURCHDATE</th>\n",
       "      <th>PURCHTIME</th>\n",
       "      <th>AFFIL</th>\n",
       "      <th>CLASSCODEL</th>\n",
       "      <th>CLASSCODEM</th>\n",
       "      <th>CLASSCODES</th>\n",
       "      <th>STORENO</th>\n",
       "      <th>GENDER</th>\n",
       "      <th>AGEGROUP</th>\n",
       "      <th>RESIDENCE</th>\n",
       "      <th>PURCHAMOUNT</th>\n",
       "      <th>Year</th>\n",
       "      <th>AFFIL_CLASS</th>\n",
       "      <th>prod_cat</th>\n",
       "    </tr>\n",
       "  </thead>\n",
       "  <tbody>\n",
       "    <tr>\n",
       "      <th>1216</th>\n",
       "      <td>07994316</td>\n",
       "      <td>14707</td>\n",
       "      <td>2014-10-04</td>\n",
       "      <td>13</td>\n",
       "      <td>B</td>\n",
       "      <td>28</td>\n",
       "      <td>2806</td>\n",
       "      <td>B280606</td>\n",
       "      <td>027</td>\n",
       "      <td>M</td>\n",
       "      <td>35세~39세</td>\n",
       "      <td>460</td>\n",
       "      <td>1150</td>\n",
       "      <td>2014</td>\n",
       "      <td>B28</td>\n",
       "      <td>사치</td>\n",
       "    </tr>\n",
       "    <tr>\n",
       "      <th>1895</th>\n",
       "      <td>08226051</td>\n",
       "      <td>12596</td>\n",
       "      <td>2014-11-01</td>\n",
       "      <td>21</td>\n",
       "      <td>B</td>\n",
       "      <td>28</td>\n",
       "      <td>2806</td>\n",
       "      <td>B280601</td>\n",
       "      <td>032</td>\n",
       "      <td>F</td>\n",
       "      <td>25세~29세</td>\n",
       "      <td>210</td>\n",
       "      <td>19600</td>\n",
       "      <td>2014</td>\n",
       "      <td>B28</td>\n",
       "      <td>사치</td>\n",
       "    </tr>\n",
       "    <tr>\n",
       "      <th>1896</th>\n",
       "      <td>08226051</td>\n",
       "      <td>12596</td>\n",
       "      <td>2014-11-01</td>\n",
       "      <td>21</td>\n",
       "      <td>B</td>\n",
       "      <td>28</td>\n",
       "      <td>2806</td>\n",
       "      <td>B280605</td>\n",
       "      <td>032</td>\n",
       "      <td>F</td>\n",
       "      <td>25세~29세</td>\n",
       "      <td>210</td>\n",
       "      <td>17380</td>\n",
       "      <td>2014</td>\n",
       "      <td>B28</td>\n",
       "      <td>사치</td>\n",
       "    </tr>\n",
       "    <tr>\n",
       "      <th>1897</th>\n",
       "      <td>08226051</td>\n",
       "      <td>12596</td>\n",
       "      <td>2014-11-01</td>\n",
       "      <td>21</td>\n",
       "      <td>B</td>\n",
       "      <td>28</td>\n",
       "      <td>2812</td>\n",
       "      <td>B281203</td>\n",
       "      <td>032</td>\n",
       "      <td>F</td>\n",
       "      <td>25세~29세</td>\n",
       "      <td>210</td>\n",
       "      <td>49000</td>\n",
       "      <td>2014</td>\n",
       "      <td>B28</td>\n",
       "      <td>사치</td>\n",
       "    </tr>\n",
       "    <tr>\n",
       "      <th>2927</th>\n",
       "      <td>08228107</td>\n",
       "      <td>15218</td>\n",
       "      <td>2014-11-22</td>\n",
       "      <td>17</td>\n",
       "      <td>B</td>\n",
       "      <td>28</td>\n",
       "      <td>2811</td>\n",
       "      <td>B281101</td>\n",
       "      <td>032</td>\n",
       "      <td>F</td>\n",
       "      <td>45세~49세</td>\n",
       "      <td>210</td>\n",
       "      <td>13500</td>\n",
       "      <td>2014</td>\n",
       "      <td>B28</td>\n",
       "      <td>사치</td>\n",
       "    </tr>\n",
       "    <tr>\n",
       "      <th>...</th>\n",
       "      <td>...</td>\n",
       "      <td>...</td>\n",
       "      <td>...</td>\n",
       "      <td>...</td>\n",
       "      <td>...</td>\n",
       "      <td>...</td>\n",
       "      <td>...</td>\n",
       "      <td>...</td>\n",
       "      <td>...</td>\n",
       "      <td>...</td>\n",
       "      <td>...</td>\n",
       "      <td>...</td>\n",
       "      <td>...</td>\n",
       "      <td>...</td>\n",
       "      <td>...</td>\n",
       "      <td>...</td>\n",
       "    </tr>\n",
       "    <tr>\n",
       "      <th>3446697</th>\n",
       "      <td>10589309</td>\n",
       "      <td>10546</td>\n",
       "      <td>2015-10-17</td>\n",
       "      <td>20</td>\n",
       "      <td>B</td>\n",
       "      <td>28</td>\n",
       "      <td>2807</td>\n",
       "      <td>B280702</td>\n",
       "      <td>118</td>\n",
       "      <td>F</td>\n",
       "      <td>45세~49세</td>\n",
       "      <td>570</td>\n",
       "      <td>16210</td>\n",
       "      <td>2015</td>\n",
       "      <td>B28</td>\n",
       "      <td>사치</td>\n",
       "    </tr>\n",
       "    <tr>\n",
       "      <th>3446941</th>\n",
       "      <td>10312308</td>\n",
       "      <td>04892</td>\n",
       "      <td>2015-10-18</td>\n",
       "      <td>19</td>\n",
       "      <td>B</td>\n",
       "      <td>28</td>\n",
       "      <td>2806</td>\n",
       "      <td>B280606</td>\n",
       "      <td>104</td>\n",
       "      <td>F</td>\n",
       "      <td>45세~49세</td>\n",
       "      <td>100</td>\n",
       "      <td>5900</td>\n",
       "      <td>2015</td>\n",
       "      <td>B28</td>\n",
       "      <td>사치</td>\n",
       "    </tr>\n",
       "    <tr>\n",
       "      <th>3447488</th>\n",
       "      <td>07599705</td>\n",
       "      <td>09820</td>\n",
       "      <td>2015-11-07</td>\n",
       "      <td>22</td>\n",
       "      <td>B</td>\n",
       "      <td>28</td>\n",
       "      <td>2809</td>\n",
       "      <td>B280903</td>\n",
       "      <td>018</td>\n",
       "      <td>F</td>\n",
       "      <td>30세~34세</td>\n",
       "      <td>049</td>\n",
       "      <td>3900</td>\n",
       "      <td>2015</td>\n",
       "      <td>B28</td>\n",
       "      <td>사치</td>\n",
       "    </tr>\n",
       "    <tr>\n",
       "      <th>3447883</th>\n",
       "      <td>07599689</td>\n",
       "      <td>08773</td>\n",
       "      <td>2015-11-06</td>\n",
       "      <td>18</td>\n",
       "      <td>B</td>\n",
       "      <td>28</td>\n",
       "      <td>2809</td>\n",
       "      <td>B280904</td>\n",
       "      <td>018</td>\n",
       "      <td>F</td>\n",
       "      <td>35세~39세</td>\n",
       "      <td>100</td>\n",
       "      <td>6000</td>\n",
       "      <td>2015</td>\n",
       "      <td>B28</td>\n",
       "      <td>사치</td>\n",
       "    </tr>\n",
       "    <tr>\n",
       "      <th>3447884</th>\n",
       "      <td>07599689</td>\n",
       "      <td>08773</td>\n",
       "      <td>2015-11-06</td>\n",
       "      <td>18</td>\n",
       "      <td>B</td>\n",
       "      <td>28</td>\n",
       "      <td>2811</td>\n",
       "      <td>B281101</td>\n",
       "      <td>018</td>\n",
       "      <td>F</td>\n",
       "      <td>35세~39세</td>\n",
       "      <td>100</td>\n",
       "      <td>3000</td>\n",
       "      <td>2015</td>\n",
       "      <td>B28</td>\n",
       "      <td>사치</td>\n",
       "    </tr>\n",
       "  </tbody>\n",
       "</table>\n",
       "<p>6983 rows × 16 columns</p>\n",
       "</div>"
      ],
      "text/plain": [
       "        RECEIPTNO CUSTNO  PURCHDATE  PURCHTIME AFFIL  CLASSCODEL CLASSCODEM  \\\n",
       "1216     07994316  14707 2014-10-04         13     B          28       2806   \n",
       "1895     08226051  12596 2014-11-01         21     B          28       2806   \n",
       "1896     08226051  12596 2014-11-01         21     B          28       2806   \n",
       "1897     08226051  12596 2014-11-01         21     B          28       2812   \n",
       "2927     08228107  15218 2014-11-22         17     B          28       2811   \n",
       "...           ...    ...        ...        ...   ...         ...        ...   \n",
       "3446697  10589309  10546 2015-10-17         20     B          28       2807   \n",
       "3446941  10312308  04892 2015-10-18         19     B          28       2806   \n",
       "3447488  07599705  09820 2015-11-07         22     B          28       2809   \n",
       "3447883  07599689  08773 2015-11-06         18     B          28       2809   \n",
       "3447884  07599689  08773 2015-11-06         18     B          28       2811   \n",
       "\n",
       "        CLASSCODES STORENO GENDER AGEGROUP RESIDENCE  PURCHAMOUNT  Year  \\\n",
       "1216       B280606     027      M  35세~39세       460         1150  2014   \n",
       "1895       B280601     032      F  25세~29세       210        19600  2014   \n",
       "1896       B280605     032      F  25세~29세       210        17380  2014   \n",
       "1897       B281203     032      F  25세~29세       210        49000  2014   \n",
       "2927       B281101     032      F  45세~49세       210        13500  2014   \n",
       "...            ...     ...    ...      ...       ...          ...   ...   \n",
       "3446697    B280702     118      F  45세~49세       570        16210  2015   \n",
       "3446941    B280606     104      F  45세~49세       100         5900  2015   \n",
       "3447488    B280903     018      F  30세~34세       049         3900  2015   \n",
       "3447883    B280904     018      F  35세~39세       100         6000  2015   \n",
       "3447884    B281101     018      F  35세~39세       100         3000  2015   \n",
       "\n",
       "        AFFIL_CLASS prod_cat  \n",
       "1216            B28       사치  \n",
       "1895            B28       사치  \n",
       "1896            B28       사치  \n",
       "1897            B28       사치  \n",
       "2927            B28       사치  \n",
       "...             ...      ...  \n",
       "3446697         B28       사치  \n",
       "3446941         B28       사치  \n",
       "3447488         B28       사치  \n",
       "3447883         B28       사치  \n",
       "3447884         B28       사치  \n",
       "\n",
       "[6983 rows x 16 columns]"
      ]
     },
     "execution_count": 13,
     "metadata": {},
     "output_type": "execute_result"
    }
   ],
   "source": [
    "ndf[ndf['AFFIL_CLASS'] == 'B28']"
   ]
  },
  {
   "cell_type": "code",
   "execution_count": 6,
   "metadata": {},
   "outputs": [],
   "source": [
    "df_food = df.loc[df.prod_cat=='Food']\n",
    "df_nor = df.loc[df.prod_cat=='Nor']\n",
    "df_cloth = df.loc[df.prod_cat=='Cloth']\n",
    "df_hobby = df.loc[df.prod_cat=='Hobby']\n",
    "df_rich = df.loc[df.prod_cat=='Rich']\n",
    "df_etc = df.loc[df.prod_cat=='Etc']"
   ]
  },
  {
   "cell_type": "code",
   "execution_count": 7,
   "metadata": {},
   "outputs": [
    {
     "data": {
      "text/html": [
       "<div>\n",
       "<style scoped>\n",
       "    .dataframe tbody tr th:only-of-type {\n",
       "        vertical-align: middle;\n",
       "    }\n",
       "\n",
       "    .dataframe tbody tr th {\n",
       "        vertical-align: top;\n",
       "    }\n",
       "\n",
       "    .dataframe thead th {\n",
       "        text-align: right;\n",
       "    }\n",
       "</style>\n",
       "<table border=\"1\" class=\"dataframe\">\n",
       "  <thead>\n",
       "    <tr style=\"text-align: right;\">\n",
       "      <th></th>\n",
       "      <th>RECEIPTNO</th>\n",
       "      <th>CUSTNO</th>\n",
       "      <th>PURCHDATE</th>\n",
       "      <th>PURCHTIME</th>\n",
       "      <th>AFFIL</th>\n",
       "      <th>CLASSCODEL</th>\n",
       "      <th>CLASSCODEM</th>\n",
       "      <th>CLASSCODES</th>\n",
       "      <th>STORENO</th>\n",
       "      <th>GENDER</th>\n",
       "      <th>AGEGROUP</th>\n",
       "      <th>RESIDENCE</th>\n",
       "      <th>PURCHAMOUNT</th>\n",
       "      <th>Year</th>\n",
       "      <th>AFFIL_CLASS</th>\n",
       "      <th>prod_cat</th>\n",
       "    </tr>\n",
       "  </thead>\n",
       "  <tbody>\n",
       "    <tr>\n",
       "      <th>0</th>\n",
       "      <td>08068631</td>\n",
       "      <td>07122</td>\n",
       "      <td>2014-09-06</td>\n",
       "      <td>17</td>\n",
       "      <td>B</td>\n",
       "      <td>8</td>\n",
       "      <td>0802</td>\n",
       "      <td>B080203</td>\n",
       "      <td>028</td>\n",
       "      <td>M</td>\n",
       "      <td>40세~44세</td>\n",
       "      <td>100</td>\n",
       "      <td>14000</td>\n",
       "      <td>2014</td>\n",
       "      <td>B8</td>\n",
       "      <td>Etc</td>\n",
       "    </tr>\n",
       "    <tr>\n",
       "      <th>2</th>\n",
       "      <td>08942410</td>\n",
       "      <td>17967</td>\n",
       "      <td>2014-11-30</td>\n",
       "      <td>15</td>\n",
       "      <td>B</td>\n",
       "      <td>47</td>\n",
       "      <td>4703</td>\n",
       "      <td>B470302</td>\n",
       "      <td>050</td>\n",
       "      <td>M</td>\n",
       "      <td>20세~24세</td>\n",
       "      <td>100</td>\n",
       "      <td>7900</td>\n",
       "      <td>2014</td>\n",
       "      <td>B47</td>\n",
       "      <td>Food</td>\n",
       "    </tr>\n",
       "    <tr>\n",
       "      <th>3</th>\n",
       "      <td>08942410</td>\n",
       "      <td>17967</td>\n",
       "      <td>2014-11-30</td>\n",
       "      <td>15</td>\n",
       "      <td>B</td>\n",
       "      <td>77</td>\n",
       "      <td>7707</td>\n",
       "      <td>B770702</td>\n",
       "      <td>050</td>\n",
       "      <td>M</td>\n",
       "      <td>20세~24세</td>\n",
       "      <td>100</td>\n",
       "      <td>16898</td>\n",
       "      <td>2014</td>\n",
       "      <td>B77</td>\n",
       "      <td>Item</td>\n",
       "    </tr>\n",
       "    <tr>\n",
       "      <th>4</th>\n",
       "      <td>08942410</td>\n",
       "      <td>17967</td>\n",
       "      <td>2014-11-30</td>\n",
       "      <td>15</td>\n",
       "      <td>B</td>\n",
       "      <td>82</td>\n",
       "      <td>8202</td>\n",
       "      <td>B820201</td>\n",
       "      <td>050</td>\n",
       "      <td>M</td>\n",
       "      <td>20세~24세</td>\n",
       "      <td>100</td>\n",
       "      <td>7731</td>\n",
       "      <td>2014</td>\n",
       "      <td>B82</td>\n",
       "      <td>Food</td>\n",
       "    </tr>\n",
       "    <tr>\n",
       "      <th>5</th>\n",
       "      <td>08942410</td>\n",
       "      <td>17967</td>\n",
       "      <td>2014-11-30</td>\n",
       "      <td>15</td>\n",
       "      <td>B</td>\n",
       "      <td>89</td>\n",
       "      <td>8901</td>\n",
       "      <td>B890103</td>\n",
       "      <td>050</td>\n",
       "      <td>M</td>\n",
       "      <td>20세~24세</td>\n",
       "      <td>100</td>\n",
       "      <td>7800</td>\n",
       "      <td>2014</td>\n",
       "      <td>B89</td>\n",
       "      <td>Food</td>\n",
       "    </tr>\n",
       "    <tr>\n",
       "      <th>...</th>\n",
       "      <td>...</td>\n",
       "      <td>...</td>\n",
       "      <td>...</td>\n",
       "      <td>...</td>\n",
       "      <td>...</td>\n",
       "      <td>...</td>\n",
       "      <td>...</td>\n",
       "      <td>...</td>\n",
       "      <td>...</td>\n",
       "      <td>...</td>\n",
       "      <td>...</td>\n",
       "      <td>...</td>\n",
       "      <td>...</td>\n",
       "      <td>...</td>\n",
       "      <td>...</td>\n",
       "      <td>...</td>\n",
       "    </tr>\n",
       "    <tr>\n",
       "      <th>3449415</th>\n",
       "      <td>07143341</td>\n",
       "      <td>08054</td>\n",
       "      <td>2015-10-20</td>\n",
       "      <td>18</td>\n",
       "      <td>B</td>\n",
       "      <td>45</td>\n",
       "      <td>4506</td>\n",
       "      <td>B450601</td>\n",
       "      <td>013</td>\n",
       "      <td>F</td>\n",
       "      <td>35세~39세</td>\n",
       "      <td>055</td>\n",
       "      <td>15800</td>\n",
       "      <td>2015</td>\n",
       "      <td>B45</td>\n",
       "      <td>Etc</td>\n",
       "    </tr>\n",
       "    <tr>\n",
       "      <th>3449416</th>\n",
       "      <td>07143342</td>\n",
       "      <td>05446</td>\n",
       "      <td>2015-10-20</td>\n",
       "      <td>19</td>\n",
       "      <td>B</td>\n",
       "      <td>18</td>\n",
       "      <td>1807</td>\n",
       "      <td>B180707</td>\n",
       "      <td>013</td>\n",
       "      <td>F</td>\n",
       "      <td>45세~49세</td>\n",
       "      <td>055</td>\n",
       "      <td>2000</td>\n",
       "      <td>2015</td>\n",
       "      <td>B18</td>\n",
       "      <td>Item</td>\n",
       "    </tr>\n",
       "    <tr>\n",
       "      <th>3449417</th>\n",
       "      <td>07598192</td>\n",
       "      <td>01584</td>\n",
       "      <td>2015-09-16</td>\n",
       "      <td>10</td>\n",
       "      <td>B</td>\n",
       "      <td>90</td>\n",
       "      <td>9001</td>\n",
       "      <td>B900103</td>\n",
       "      <td>018</td>\n",
       "      <td>F</td>\n",
       "      <td>55세~59세</td>\n",
       "      <td>100</td>\n",
       "      <td>11850</td>\n",
       "      <td>2015</td>\n",
       "      <td>B90</td>\n",
       "      <td>Etc</td>\n",
       "    </tr>\n",
       "    <tr>\n",
       "      <th>3449418</th>\n",
       "      <td>07598193</td>\n",
       "      <td>00033</td>\n",
       "      <td>2015-09-16</td>\n",
       "      <td>15</td>\n",
       "      <td>B</td>\n",
       "      <td>5</td>\n",
       "      <td>0510</td>\n",
       "      <td>B051005</td>\n",
       "      <td>018</td>\n",
       "      <td>M</td>\n",
       "      <td>60세이상</td>\n",
       "      <td>100</td>\n",
       "      <td>3160</td>\n",
       "      <td>2015</td>\n",
       "      <td>B5</td>\n",
       "      <td>Food</td>\n",
       "    </tr>\n",
       "    <tr>\n",
       "      <th>3449419</th>\n",
       "      <td>07598193</td>\n",
       "      <td>00033</td>\n",
       "      <td>2015-09-16</td>\n",
       "      <td>15</td>\n",
       "      <td>B</td>\n",
       "      <td>9</td>\n",
       "      <td>0903</td>\n",
       "      <td>B090302</td>\n",
       "      <td>018</td>\n",
       "      <td>M</td>\n",
       "      <td>60세이상</td>\n",
       "      <td>100</td>\n",
       "      <td>6900</td>\n",
       "      <td>2015</td>\n",
       "      <td>B9</td>\n",
       "      <td>Food</td>\n",
       "    </tr>\n",
       "  </tbody>\n",
       "</table>\n",
       "<p>6538642 rows × 16 columns</p>\n",
       "</div>"
      ],
      "text/plain": [
       "        RECEIPTNO CUSTNO  PURCHDATE  PURCHTIME AFFIL  CLASSCODEL CLASSCODEM  \\\n",
       "0        08068631  07122 2014-09-06         17     B           8       0802   \n",
       "2        08942410  17967 2014-11-30         15     B          47       4703   \n",
       "3        08942410  17967 2014-11-30         15     B          77       7707   \n",
       "4        08942410  17967 2014-11-30         15     B          82       8202   \n",
       "5        08942410  17967 2014-11-30         15     B          89       8901   \n",
       "...           ...    ...        ...        ...   ...         ...        ...   \n",
       "3449415  07143341  08054 2015-10-20         18     B          45       4506   \n",
       "3449416  07143342  05446 2015-10-20         19     B          18       1807   \n",
       "3449417  07598192  01584 2015-09-16         10     B          90       9001   \n",
       "3449418  07598193  00033 2015-09-16         15     B           5       0510   \n",
       "3449419  07598193  00033 2015-09-16         15     B           9       0903   \n",
       "\n",
       "        CLASSCODES STORENO GENDER AGEGROUP RESIDENCE  PURCHAMOUNT  Year  \\\n",
       "0          B080203     028      M  40세~44세       100        14000  2014   \n",
       "2          B470302     050      M  20세~24세       100         7900  2014   \n",
       "3          B770702     050      M  20세~24세       100        16898  2014   \n",
       "4          B820201     050      M  20세~24세       100         7731  2014   \n",
       "5          B890103     050      M  20세~24세       100         7800  2014   \n",
       "...            ...     ...    ...      ...       ...          ...   ...   \n",
       "3449415    B450601     013      F  35세~39세       055        15800  2015   \n",
       "3449416    B180707     013      F  45세~49세       055         2000  2015   \n",
       "3449417    B900103     018      F  55세~59세       100        11850  2015   \n",
       "3449418    B051005     018      M    60세이상       100         3160  2015   \n",
       "3449419    B090302     018      M    60세이상       100         6900  2015   \n",
       "\n",
       "        AFFIL_CLASS prod_cat  \n",
       "0                B8      Etc  \n",
       "2               B47     Food  \n",
       "3               B77     Item  \n",
       "4               B82     Food  \n",
       "5               B89     Food  \n",
       "...             ...      ...  \n",
       "3449415         B45      Etc  \n",
       "3449416         B18     Item  \n",
       "3449417         B90      Etc  \n",
       "3449418          B5     Food  \n",
       "3449419          B9     Food  \n",
       "\n",
       "[6538642 rows x 16 columns]"
      ]
     },
     "execution_count": 7,
     "metadata": {},
     "output_type": "execute_result"
    }
   ],
   "source": [
    "# df.loc[df_AFFIL_CLASS=='A7'].index\n",
    "df = df.drop(df.loc[df.AFFIL_CLASS=='A7'].index, axis=0)\n",
    "df = df.drop(df.loc[df.AFFIL_CLASS=='B74'].index, axis=0)\n",
    "df = df.drop(df.loc[df.AFFIL_CLASS=='B73'].index, axis=0)\n",
    "df = df.drop(df.loc[df.AFFIL_CLASS=='B75'].index, axis=0)\n",
    "df = df.drop(df.loc[df.AFFIL_CLASS=='B76'].index, axis=0)\n",
    "df = df.drop(df.loc[df.AFFIL_CLASS=='B78'].index, axis=0)\n",
    "df = df.drop(df.loc[df.AFFIL_CLASS=='B85'].index, axis=0)\n",
    "df = df.drop(df.loc[df.AFFIL_CLASS=='B39'].index, axis=0)\n",
    "df = df.drop(df.loc[df.AFFIL_CLASS=='B40'].index, axis=0)\n",
    "df = df.drop(df.loc[df.AFFIL_CLASS=='B41'].index, axis=0)\n",
    "df = df.drop(df.loc[df.AFFIL_CLASS=='B42'].index, axis=0)\n",
    "df"
   ]
  },
  {
   "cell_type": "code",
   "execution_count": 8,
   "metadata": {},
   "outputs": [],
   "source": [
    "df.to_pickle('dataset/set_data.pkl')"
   ]
  },
  {
   "cell_type": "code",
   "execution_count": 14,
   "metadata": {
    "scrolled": true
   },
   "outputs": [
    {
     "data": {
      "text/plain": [
       "count    7.187900e+04\n",
       "mean     2.893078e+04\n",
       "std      9.954952e+04\n",
       "min      1.000000e+01\n",
       "25%      5.700000e+03\n",
       "50%      1.200000e+04\n",
       "75%      2.920000e+04\n",
       "max      1.500000e+07\n",
       "Name: 구매금액, dtype: float64"
      ]
     },
     "execution_count": 14,
     "metadata": {},
     "output_type": "execute_result"
    }
   ],
   "source": [
    "df_etc.구매금액.describe()"
   ]
  },
  {
   "cell_type": "code",
   "execution_count": 15,
   "metadata": {
    "scrolled": true
   },
   "outputs": [
    {
     "data": {
      "text/plain": [
       "count      2590.000000\n",
       "mean      15256.567568\n",
       "std       17965.723340\n",
       "min         300.000000\n",
       "25%        7000.000000\n",
       "50%       10000.000000\n",
       "75%       17000.000000\n",
       "max      195000.000000\n",
       "Name: 구매금액, dtype: float64"
      ]
     },
     "execution_count": 15,
     "metadata": {},
     "output_type": "execute_result"
    }
   ],
   "source": [
    "df_rich.구매금액.describe()"
   ]
  },
  {
   "cell_type": "code",
   "execution_count": 25,
   "metadata": {
    "scrolled": false
   },
   "outputs": [
    {
     "data": {
      "text/plain": [
       "<AxesSubplot:xlabel='AFFIL_CLASS'>"
      ]
     },
     "execution_count": 25,
     "metadata": {},
     "output_type": "execute_result"
    },
    {
     "data": {
      "image/png": "[encoded data removed]",
      "text/plain": [
       "<Figure size 720x720 with 1 Axes>"
      ]
     },
     "metadata": {
      "needs_background": "light"
     },
     "output_type": "display_data"
    }
   ],
   "source": [
    "# 식품군 대분류코드별 구매가격(평균)\n",
    "\n",
    "fig = plt.figure(figsize=(10,10))\n",
    "d = df_food.groupby('AFFIL_CLASS').mean()['PURCHAMOUNT'].sort_values()\n",
    "d.plot(kind = 'bar')\n"
   ]
  },
  {
   "cell_type": "code",
   "execution_count": 67,
   "metadata": {},
   "outputs": [
    {
     "data": {
      "text/plain": [
       "<AxesSubplot:xlabel='AFFIL_CLASS'>"
      ]
     },
     "execution_count": 67,
     "metadata": {},
     "output_type": "execute_result"
    },
    {
     "data": {
      "image/png": "[encoded data removed]",
      "text/plain": [
       "<Figure size 1080x720 with 1 Axes>"
      ]
     },
     "metadata": {
      "needs_background": "light"
     },
     "output_type": "display_data"
    }
   ],
   "source": [
    "# 식품 대분류코드별 구매가격(총)\n",
    "\n",
    "d = df_food.groupby('AFFIL_CLASS').sum()['PURCHAMOUNT'].sort_values()\n",
    "d.plot(kind = 'bar')\n"
   ]
  },
  {
   "cell_type": "code",
   "execution_count": 23,
   "metadata": {
    "scrolled": true
   },
   "outputs": [
    {
     "data": {
      "text/plain": [
       "<AxesSubplot:xlabel='AFFIL_CLASS', ylabel='count'>"
      ]
     },
     "execution_count": 23,
     "metadata": {},
     "output_type": "execute_result"
    },
    {
     "data": {
      "image/png": "[encoded data removed]",
      "text/plain": [
       "<Figure size 1440x720 with 1 Axes>"
      ]
     },
     "metadata": {
      "needs_background": "light"
     },
     "output_type": "display_data"
    }
   ],
   "source": [
    "# 식품 - 분류코드별 구매빈도\n",
    "\n",
    "sns.countplot('AFFIL_CLASS', data = df_food,order = df_food['AFFIL_CLASS'].value_counts().index)\n"
   ]
  },
  {
   "cell_type": "code",
   "execution_count": 75,
   "metadata": {},
   "outputs": [
    {
     "data": {
      "text/plain": [
       "<AxesSubplot:xlabel='AFFIL_CLASS'>"
      ]
     },
     "execution_count": 75,
     "metadata": {},
     "output_type": "execute_result"
    },
    {
     "data": {
      "image/png": "[encoded data removed]",
      "text/plain": [
       "<Figure size 1440x720 with 1 Axes>"
      ]
     },
     "metadata": {
      "needs_background": "light"
     },
     "output_type": "display_data"
    }
   ],
   "source": [
    "# 의류 - 대분류코드별 구매가격(평균)\n",
    "\n",
    "d = df_cloth.groupby('AFFIL_CLASS').mean()['PURCHAMOUNT'].sort_values()\n",
    "d.plot(kind = 'bar')\n"
   ]
  },
  {
   "cell_type": "code",
   "execution_count": 54,
   "metadata": {},
   "outputs": [
    {
     "data": {
      "text/plain": [
       "AFFIL_CLASS\n",
       "B49       31969450\n",
       "B69       32434580\n",
       "B50       36495950\n",
       "B28       82003850\n",
       "B68       96130950\n",
       "B44      125445070\n",
       "B51      347973300\n",
       "B30      353560430\n",
       "B33      400268220\n",
       "B29      991737590\n",
       "A5      9371655760\n",
       "A4     42821012450\n",
       "Name: PURCHAMOUNT, dtype: int64"
      ]
     },
     "execution_count": 54,
     "metadata": {},
     "output_type": "execute_result"
    },
    {
     "data": {
      "image/png": "[encoded data removed]",
      "text/plain": [
       "<Figure size 1080x720 with 1 Axes>"
      ]
     },
     "metadata": {
      "needs_background": "light"
     },
     "output_type": "display_data"
    }
   ],
   "source": [
    "# 의류 - 대분류코드별 구매가격(총액)\n",
    "\n",
    "d = df_cloth.groupby('AFFIL_CLASS').sum()['PURCHAMOUNT'].sort_values()\n",
    "d.plot(kind = 'bar')\n",
    "d"
   ]
  },
  {
   "cell_type": "code",
   "execution_count": 27,
   "metadata": {
    "scrolled": false
   },
   "outputs": [
    {
     "data": {
      "text/plain": [
       "<AxesSubplot:xlabel='AFFIL_CLASS', ylabel='count'>"
      ]
     },
     "execution_count": 27,
     "metadata": {},
     "output_type": "execute_result"
    },
    {
     "data": {
      "image/png": "[encoded data removed]",
      "text/plain": [
       "<Figure size 1080x720 with 1 Axes>"
      ]
     },
     "metadata": {
      "needs_background": "light"
     },
     "output_type": "display_data"
    }
   ],
   "source": [
    "# 의류 - 대분류코드별 구매빈도\n",
    "\n",
    "sns.countplot('AFFIL_CLASS', data = df_cloth , orient = 'h') \n"
   ]
  },
  {
   "cell_type": "code",
   "execution_count": 41,
   "metadata": {},
   "outputs": [
    {
     "data": {
      "text/plain": [
       "<AxesSubplot:xlabel='AFFIL_CLASS'>"
      ]
     },
     "execution_count": 41,
     "metadata": {},
     "output_type": "execute_result"
    },
    {
     "data": {
      "image/png": "[encoded data removed]",
      "text/plain": [
       "<Figure size 1080x720 with 1 Axes>"
      ]
     },
     "metadata": {
      "needs_background": "light"
     },
     "output_type": "display_data"
    }
   ],
   "source": [
    "# 기타 - 대분류코드별 구매가격(평균)\n",
    "\n",
    "d = df_etc.groupby('AFFIL_CLASS').mean()['PURCHAMOUNT'].sort_values()\n",
    "d.plot(kind = 'bar')"
   ]
  },
  {
   "cell_type": "code",
   "execution_count": 53,
   "metadata": {},
   "outputs": [
    {
     "data": {
      "text/plain": [
       "AFFIL_CLASS\n",
       "D8       37315360\n",
       "B45     290694940\n",
       "B8      562424011\n",
       "B90    1130755310\n",
       "Name: PURCHAMOUNT, dtype: int64"
      ]
     },
     "execution_count": 53,
     "metadata": {},
     "output_type": "execute_result"
    },
    {
     "data": {
      "image/png": "[encoded data removed]",
      "text/plain": [
       "<Figure size 1080x720 with 1 Axes>"
      ]
     },
     "metadata": {
      "needs_background": "light"
     },
     "output_type": "display_data"
    }
   ],
   "source": [
    "# 기타 - 대분류코드별 구매가격(총액)\n",
    "\n",
    "d = df_etc.groupby('AFFIL_CLASS').sum()['PURCHAMOUNT'].sort_values()\n",
    "d.plot(kind = 'bar')\n",
    "d"
   ]
  },
  {
   "cell_type": "code",
   "execution_count": 39,
   "metadata": {
    "scrolled": false
   },
   "outputs": [
    {
     "data": {
      "text/plain": [
       "<AxesSubplot:xlabel='AFFIL_CLASS', ylabel='count'>"
      ]
     },
     "execution_count": 39,
     "metadata": {},
     "output_type": "execute_result"
    },
    {
     "data": {
      "image/png": "[encoded data removed]",
      "text/plain": [
       "<Figure size 1080x720 with 1 Axes>"
      ]
     },
     "metadata": {
      "needs_background": "light"
     },
     "output_type": "display_data"
    }
   ],
   "source": [
    "# 기타 - 대분류코드별 구매빈도\n",
    "\n",
    "sns.countplot('AFFIL_CLASS', data = df_etc )"
   ]
  },
  {
   "cell_type": "code",
   "execution_count": 52,
   "metadata": {
    "scrolled": false
   },
   "outputs": [
    {
     "data": {
      "text/plain": [
       "AFFIL_CLASS\n",
       "B27     11451.159633\n",
       "B36     22721.115385\n",
       "B26     28403.673626\n",
       "B71     53859.778481\n",
       "A6     195787.594637\n",
       "Name: PURCHAMOUNT, dtype: float64"
      ]
     },
     "execution_count": 52,
     "metadata": {},
     "output_type": "execute_result"
    },
    {
     "data": {
      "image/png": "[encoded data removed]",
      "text/plain": [
       "<Figure size 1080x720 with 1 Axes>"
      ]
     },
     "metadata": {
      "needs_background": "light"
     },
     "output_type": "display_data"
    }
   ],
   "source": [
    "# 취미 - 대분류코드별 구매가격(평균)\n",
    "\n",
    "\n",
    "d = df_hobby.groupby('AFFIL_CLASS').mean()['PURCHAMOUNT'].sort_values()\n",
    "d.plot(kind = 'bar')\n",
    "d"
   ]
  },
  {
   "cell_type": "code",
   "execution_count": 66,
   "metadata": {},
   "outputs": [
    {
     "data": {
      "text/plain": [
       "AFFIL_CLASS\n",
       "B36       64982390\n",
       "B27      163625620\n",
       "B71      221255970\n",
       "B26      741477900\n",
       "A6     13054333660\n",
       "Name: PURCHAMOUNT, dtype: int64"
      ]
     },
     "execution_count": 66,
     "metadata": {},
     "output_type": "execute_result"
    },
    {
     "data": {
      "image/png": "[encoded data removed]",
      "text/plain": [
       "<Figure size 1080x720 with 1 Axes>"
      ]
     },
     "metadata": {
      "needs_background": "light"
     },
     "output_type": "display_data"
    }
   ],
   "source": [
    "# 취미 - 대분류코드별 구매가격(총액)\n",
    "\n",
    "\n",
    "d = df_hobby.groupby('AFFIL_CLASS').sum()['PURCHAMOUNT'].sort_values()\n",
    "d.plot(kind = 'bar')\n",
    "d"
   ]
  },
  {
   "cell_type": "code",
   "execution_count": 65,
   "metadata": {
    "scrolled": false
   },
   "outputs": [
    {
     "data": {
      "text/plain": [
       "<AxesSubplot:xlabel='AFFIL_CLASS', ylabel='count'>"
      ]
     },
     "execution_count": 65,
     "metadata": {},
     "output_type": "execute_result"
    },
    {
     "data": {
      "image/png": "[encoded data removed]",
      "text/plain": [
       "<Figure size 1080x720 with 1 Axes>"
      ]
     },
     "metadata": {
      "needs_background": "light"
     },
     "output_type": "display_data"
    }
   ],
   "source": [
    "# 취미 - 대분류코드별 구매빈도\n",
    "\n",
    "sns.countplot('AFFIL_CLASS', data = df_hobby)"
   ]
  },
  {
   "cell_type": "code",
   "execution_count": 20,
   "metadata": {
    "scrolled": true
   },
   "outputs": [
    {
     "data": {
      "text/plain": [
       "AFFIL_CLASS\n",
       "B28      12040.47\n",
       "B70      15256.57\n",
       "A8     1009571.85\n",
       "Name: PURCHAMOUNT, dtype: float64"
      ]
     },
     "execution_count": 20,
     "metadata": {},
     "output_type": "execute_result"
    },
    {
     "data": {
      "image/png": "[encoded data removed]",
      "text/plain": [
       "<Figure size 1080x720 with 1 Axes>"
      ]
     },
     "metadata": {
      "needs_background": "light"
     },
     "output_type": "display_data"
    }
   ],
   "source": [
    "# 사치 - 대분류코드별 구매가격(평균)\n",
    "d = df_rich.groupby('AFFIL_CLASS').mean()['PURCHAMOUNT'].sort_values()\n",
    "d.plot(kind = 'bar')\n",
    "d.round(2)"
   ]
  },
  {
   "cell_type": "code",
   "execution_count": 19,
   "metadata": {
    "scrolled": false
   },
   "outputs": [
    {
     "data": {
      "text/plain": [
       "AFFIL_CLASS\n",
       "B70       39514510\n",
       "B28       84078600\n",
       "A8     17399970780\n",
       "Name: PURCHAMOUNT, dtype: int64"
      ]
     },
     "execution_count": 19,
     "metadata": {},
     "output_type": "execute_result"
    },
    {
     "data": {
      "image/png": "[encoded data removed]",
      "text/plain": [
       "<Figure size 1080x720 with 1 Axes>"
      ]
     },
     "metadata": {
      "needs_background": "light"
     },
     "output_type": "display_data"
    }
   ],
   "source": [
    "# 사치 - 대분류코드별 구매가격(총액)\n",
    "d = df_rich.groupby('AFFIL_CLASS').sum()['PURCHAMOUNT'].sort_values()\n",
    "d.plot(kind = 'bar')\n",
    "d"
   ]
  },
  {
   "cell_type": "code",
   "execution_count": 34,
   "metadata": {
    "scrolled": true
   },
   "outputs": [
    {
     "data": {
      "text/plain": [
       "<AxesSubplot:xlabel='AFFIL_CLASS', ylabel='count'>"
      ]
     },
     "execution_count": 34,
     "metadata": {},
     "output_type": "execute_result"
    },
    {
     "data": {
      "image/png": "[encoded data removed]",
      "text/plain": [
       "<Figure size 1080x720 with 1 Axes>"
      ]
     },
     "metadata": {
      "needs_background": "light"
     },
     "output_type": "display_data"
    }
   ],
   "source": [
    "# 사치 - 대분류코드별 구매빈도\n",
    "\n",
    "sns.countplot('AFFIL_CLASS',data = df_rich) \n",
    "\n"
   ]
  },
  {
   "cell_type": "code",
   "execution_count": 43,
   "metadata": {
    "scrolled": false
   },
   "outputs": [
    {
     "data": {
      "text/plain": [
       "<AxesSubplot:xlabel='AFFIL_CLASS'>"
      ]
     },
     "execution_count": 43,
     "metadata": {},
     "output_type": "execute_result"
    },
    {
     "data": {
      "image/png": "[encoded data removed]",
      "text/plain": [
       "<Figure size 1080x720 with 1 Axes>"
      ]
     },
     "metadata": {
      "needs_background": "light"
     },
     "output_type": "display_data"
    }
   ],
   "source": [
    "# 생활용품 - 대분류코드별 구매가격(평균)\n",
    "d = df_nor.groupby('AFFIL_CLASS').mean()['PURCHAMOUNT'].sort_values()\n",
    "d.plot(kind = 'bar')\n"
   ]
  },
  {
   "cell_type": "code",
   "execution_count": 44,
   "metadata": {
    "scrolled": false
   },
   "outputs": [
    {
     "data": {
      "text/plain": [
       "<AxesSubplot:xlabel='AFFIL_CLASS'>"
      ]
     },
     "execution_count": 44,
     "metadata": {},
     "output_type": "execute_result"
    },
    {
     "data": {
      "image/png": "[encoded data removed]",
      "text/plain": [
       "<Figure size 1080x720 with 1 Axes>"
      ]
     },
     "metadata": {
      "needs_background": "light"
     },
     "output_type": "display_data"
    }
   ],
   "source": [
    "# 생활용품 - 대분류코드별 구매가격(총액)\n",
    "d = df_nor.groupby('AFFIL_CLASS').sum()['PURCHAMOUNT'].sort_values()\n",
    "d.plot(kind = 'bar')\n"
   ]
  },
  {
   "cell_type": "code",
   "execution_count": 47,
   "metadata": {
    "scrolled": false
   },
   "outputs": [
    {
     "data": {
      "text/plain": [
       "<AxesSubplot:xlabel='AFFIL_CLASS', ylabel='count'>"
      ]
     },
     "execution_count": 47,
     "metadata": {},
     "output_type": "execute_result"
    },
    {
     "data": {
      "image/png": "[encoded data removed]",
      "text/plain": [
       "<Figure size 1080x720 with 1 Axes>"
      ]
     },
     "metadata": {
      "needs_background": "light"
     },
     "output_type": "display_data"
    }
   ],
   "source": [
    "# 생활용품 - 대분류코드별 구매빈도\n",
    "sns.countplot('AFFIL_CLASS',data = df_nor,order = df_nor['AFFIL_CLASS'].value_counts().index) \n"
   ]
  },
  {
   "cell_type": "code",
   "execution_count": 4,
   "metadata": {
    "scrolled": true
   },
   "outputs": [],
   "source": [
    "a_df = df[df['AFFIL']=='A']"
   ]
  },
  {
   "cell_type": "code",
   "execution_count": 61,
   "metadata": {},
   "outputs": [
    {
     "data": {
      "text/plain": [
       "RECEIPTNO          0\n",
       "CUSTNO             0\n",
       "PURCHDATE          0\n",
       "PURCHTIME          0\n",
       "AFFIL              0\n",
       "CLASSCODEL         0\n",
       "CLASSCODEM         0\n",
       "CLASSCODES         0\n",
       "STORENO            0\n",
       "GENDER             0\n",
       "AGEGROUP           0\n",
       "RESIDENCE      13341\n",
       "PURCHAMOUNT        0\n",
       "Year               0\n",
       "AFFIL_CLASS        0\n",
       "prod_cat           0\n",
       "dtype: int64"
      ]
     },
     "execution_count": 61,
     "metadata": {},
     "output_type": "execute_result"
    }
   ],
   "source": [
    "a_df.isnull().sum()"
   ]
  },
  {
   "cell_type": "code",
   "execution_count": 70,
   "metadata": {},
   "outputs": [
    {
     "data": {
      "text/plain": [
       "<AxesSubplot:xlabel='prod_cat'>"
      ]
     },
     "execution_count": 70,
     "metadata": {},
     "output_type": "execute_result"
    },
    {
     "data": {
      "image/png": "[encoded data removed]",
      "text/plain": [
       "<Figure size 1080x720 with 1 Axes>"
      ]
     },
     "metadata": {
      "needs_background": "light"
     },
     "output_type": "display_data"
    }
   ],
   "source": [
    "# 카테고리별 총매출 \n",
    "a = a_df.groupby('prod_cat').sum()['PURCHAMOUNT'].sort_values()\n",
    "\n",
    "a.plot(kind = 'bar')"
   ]
  },
  {
   "cell_type": "code",
   "execution_count": 6,
   "metadata": {
    "scrolled": false
   },
   "outputs": [
    {
     "data": {
      "text/plain": [
       "<AxesSubplot:xlabel='prod_cat'>"
      ]
     },
     "execution_count": 6,
     "metadata": {},
     "output_type": "execute_result"
    },
    {
     "data": {
      "image/png": "[encoded data removed]",
      "text/plain": [
       "<Figure size 1080x720 with 1 Axes>"
      ]
     },
     "metadata": {
      "needs_background": "light"
     },
     "output_type": "display_data"
    }
   ],
   "source": [
    "# 카테고리별 평균매출 \n",
    "\n",
    "a = a_df.groupby('prod_cat').mean()['PURCHAMOUNT'].sort_values()\n",
    "\n",
    "a.plot(kind = 'bar')"
   ]
  },
  {
   "cell_type": "code",
   "execution_count": 65,
   "metadata": {
    "scrolled": false
   },
   "outputs": [
    {
     "data": {
      "text/plain": [
       "<AxesSubplot:xlabel='prod_cat', ylabel='count'>"
      ]
     },
     "execution_count": 65,
     "metadata": {},
     "output_type": "execute_result"
    },
    {
     "data": {
      "image/png": "[encoded data removed]",
      "text/plain": [
       "<Figure size 1080x720 with 1 Axes>"
      ]
     },
     "metadata": {
      "needs_background": "light"
     },
     "output_type": "display_data"
    }
   ],
   "source": [
    "# 카테고리별 구매빈도\n",
    "\n",
    "sns.countplot('prod_cat',data = a_df,order = a_df['prod_cat'].value_counts().index) "
   ]
  },
  {
   "cell_type": "code",
   "execution_count": 16,
   "metadata": {
    "scrolled": true
   },
   "outputs": [
    {
     "data": {
      "text/plain": [
       "<AxesSubplot:title={'center':'-- A -- \\n '}, xlabel='AFFIL_CLASS', ylabel='total'>"
      ]
     },
     "execution_count": 16,
     "metadata": {},
     "output_type": "execute_result"
    },
    {
     "data": {
      "image/png": "[encoded data removed]",
      "text/plain": [
       "<Figure size 1080x720 with 1 Axes>"
      ]
     },
     "metadata": {
      "needs_background": "light"
     },
     "output_type": "display_data"
    }
   ],
   "source": [
    "# A제휴사 대분류코드별 총매출\n",
    "plt.title('-- A -- \\n ', size = 25)\n",
    "plt.xlabel('AFFIL',size =20)\n",
    "plt.ylabel('total',size =20)\n",
    "\n",
    "a = a_df.groupby('AFFIL_CLASS').sum()['PURCHAMOUNT'].sort_values()\n",
    "a.plot(kind = 'bar', color = 'pink' )"
   ]
  },
  {
   "cell_type": "markdown",
   "metadata": {},
   "source": [
    "A1 - 식품\n",
    "A2 - 생활용품\n",
    "A3 - 생활용품\n",
    "A4 - 의류\n",
    "A5 - 의류\n",
    "A6 - 취미\n",
    "A7 - 생활용품\n",
    "A8 - 사치\n",
    "A9 - 생활용품"
   ]
  }
 ],
 "metadata": {
  "kernelspec": {
   "display_name": "Python 3",
   "language": "python",
   "name": "python3"
  },
  "language_info": {
   "codemirror_mode": {
    "name": "ipython",
    "version": 3
   },
   "file_extension": ".py",
   "mimetype": "text/x-python",
   "name": "python",
   "nbconvert_exporter": "python",
   "pygments_lexer": "ipython3",
   "version": "3.7.9"
  }
 },
 "nbformat": 4,
 "nbformat_minor": 4
}
